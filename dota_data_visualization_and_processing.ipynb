{
 "cells": [
  {
   "cell_type": "code",
   "execution_count": 1,
   "id": "85036969",
   "metadata": {},
   "outputs": [],
   "source": [
    "from pathlib import Path\n",
    "\n",
    "DATA_PATH = Path('data/dota')\n",
    "TRAIN_DATA_LABELS_PATH = DATA_PATH/'labels/train'\n",
    "VALID_DATA_LABELS_PATH = DATA_PATH/'labels/val'\n",
    "IMAGES_DATA_PATH = DATA_PATH/'images'"
   ]
  },
  {
   "cell_type": "code",
   "execution_count": 3,
   "id": "3335001c",
   "metadata": {},
   "outputs": [
    {
     "name": "stdout",
     "output_type": "stream",
     "text": [
      "Collecting imagesize\n",
      "  Using cached imagesize-1.3.0-py2.py3-none-any.whl (5.2 kB)\n",
      "Installing collected packages: imagesize\n",
      "Successfully installed imagesize-1.3.0\n"
     ]
    },
    {
     "name": "stderr",
     "output_type": "stream",
     "text": [
      "WARNING: You are using pip version 21.0.1; however, version 22.0.4 is available.\n",
      "You should consider upgrading via the 'C:\\Users\\Mateusz\\miniconda3\\envs\\ds\\python.exe -m pip install --upgrade pip' command.\n"
     ]
    }
   ],
   "source": [
    "!pip install imagesize"
   ]
  },
  {
   "cell_type": "code",
   "execution_count": 8,
   "id": "794b4326",
   "metadata": {},
   "outputs": [
    {
     "data": {
      "application/vnd.jupyter.widget-view+json": {
       "model_id": "1f5aef360d204152b26f67e0f1818efa",
       "version_major": 2,
       "version_minor": 0
      },
      "text/plain": [
       "  0%|          | 0/2587 [00:00<?, ?it/s]"
      ]
     },
     "metadata": {},
     "output_type": "display_data"
    }
   ],
   "source": [
    "import imagesize\n",
    "import os\n",
    "import pandas as pd\n",
    "from tqdm.notebook import trange, tqdm\n",
    "\n",
    "images_list = []\n",
    "\n",
    "for filename in tqdm(os.listdir(IMAGES_DATA_PATH)):\n",
    "    width, height = imagesize.get(IMAGES_DATA_PATH/filename)\n",
    "    images_list.append({\n",
    "        \"filename\": filename, \n",
    "        \"width\": width, \n",
    "        \"height\": height,\n",
    "    })\n",
    "images_df = pd.DataFrame(images_list)"
   ]
  },
  {
   "cell_type": "code",
   "execution_count": 15,
   "id": "0dc44b1e",
   "metadata": {},
   "outputs": [],
   "source": [
    "images_df['ratio']=images_df.width/images_df.height\n",
    "images_df['pixels']=images_df.width*images_df.height"
   ]
  },
  {
   "cell_type": "code",
   "execution_count": 19,
   "id": "417c8a89",
   "metadata": {},
   "outputs": [
    {
     "data": {
      "text/plain": [
       "<AxesSubplot:ylabel='Frequency'>"
      ]
     },
     "execution_count": 19,
     "metadata": {},
     "output_type": "execute_result"
    },
    {
     "data": {
      "image/png": "[encoded data removed]",
      "text/plain": [
       "<Figure size 432x288 with 1 Axes>"
      ]
     },
     "metadata": {},
     "output_type": "display_data"
    }
   ],
   "source": [
    "import matplotlib.pyplot as plt\n",
    "plt.style.use(\"dark_background\")\n",
    "images_df.pixels.plot.hist(bins=30)"
   ]
  },
  {
   "cell_type": "code",
   "execution_count": null,
   "id": "2642451b",
   "metadata": {},
   "outputs": [],
   "source": []
  }
 ],
 "metadata": {
  "kernelspec": {
   "display_name": "Python [conda env:ds]",
   "language": "python",
   "name": "conda-env-ds-py"
  },
  "language_info": {
   "codemirror_mode": {
    "name": "ipython",
    "version": 3
   },
   "file_extension": ".py",
   "mimetype": "text/x-python",
   "name": "python",
   "nbconvert_exporter": "python",
   "pygments_lexer": "ipython3",
   "version": "3.7.10"
  }
 },
 "nbformat": 4,
 "nbformat_minor": 5
}
