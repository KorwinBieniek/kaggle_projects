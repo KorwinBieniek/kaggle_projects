{
 "cells": [
  {
   "cell_type": "code",
   "execution_count": 1,
   "metadata": {
    "collapsed": true
   },
   "outputs": [],
   "source": [
    "import pandas as pd\n",
    "import matplotlib.pyplot as plt\n",
    "\n",
    "plt.style.use('dark_background')"
   ]
  },
  {
   "cell_type": "code",
   "execution_count": 75,
   "outputs": [],
   "source": [
    "df = pd.read_csv('data/train.csv', index_col=0)\n",
    "val_df = pd.read_csv('data/test.csv', index_col=0)\n",
    "\n",
    "df = pd.concat([df, pd.get_dummies(data=df.MSZoning, prefix='MSZoning')], axis=1)\n",
    "df.LotFrontage.fillna(df.LotFrontage.mean(), inplace=True)\n",
    "df = pd.concat([df, pd.get_dummies(data=df.Street, prefix='Street')], axis=1)\n",
    "df.Alley.fillna('Not precised', inplace=True)\n",
    "df = pd.concat([df, pd.get_dummies(data=df.Alley, prefix='Alley')], axis=1)\n",
    "df = pd.concat([df, pd.get_dummies(data=df.LotShape, prefix='LotShape')], axis=1)\n",
    "df = pd.concat([df, pd.get_dummies(data=df.LandContour, prefix='LandContour')], axis=1)\n",
    "df = pd.concat([df, pd.get_dummies(data=df.Utilities, prefix='Utilities')], axis=1)\n",
    "df = pd.concat([df, pd.get_dummies(data=df.LotConfig, prefix='LotConfig')], axis=1)\n",
    "df = pd.concat([df, pd.get_dummies(data=df.LandSlope, prefix='LandSlope')], axis=1)\n",
    "df = pd.concat([df, pd.get_dummies(data=df.Condition1, prefix='Condition1')], axis=1)\n",
    "df = pd.concat([df, pd.get_dummies(data=df.Condition2, prefix='Condition2')], axis=1)\n",
    "df = pd.concat([df, pd.get_dummies(data=df.Neighborhood, prefix='Neighborhood')], axis=1)\n",
    "df = pd.concat([df, pd.get_dummies(data=df.BldgType, prefix='BldgType')], axis=1)\n",
    "df = pd.concat([df, pd.get_dummies(data=df.HouseStyle, prefix='HouseStyle')], axis=1)\n",
    "df = pd.concat([df, pd.get_dummies(data=df.RoofStyle, prefix='RoofStyle')], axis=1)\n",
    "df = pd.concat([df, pd.get_dummies(data=df.RoofMatl, prefix='RoofMatl')], axis=1)\n",
    "df = pd.concat([df, pd.get_dummies(data=df.Exterior1st, prefix='Exterior1st')], axis=1)\n",
    "df = pd.concat([df, pd.get_dummies(data=df.Exterior2nd, prefix='Exterior2nd')], axis=1)\n",
    "df = pd.concat([df, pd.get_dummies(data=df.MasVnrType, prefix='MasVnrType')], axis=1)\n",
    "df.MasVnrArea.fillna('None', inplace=True)\n",
    "df = pd.concat([df, pd.get_dummies(data=df.MasVnrArea, prefix='MasVnrArea')], axis=1)\n",
    "df = pd.concat([df, pd.get_dummies(data=df.ExterQual, prefix='ExterQual')], axis=1)\n",
    "df = pd.concat([df, pd.get_dummies(data=df.ExterCond, prefix='ExterCond')], axis=1)\n",
    "df = pd.concat([df, pd.get_dummies(data=df.Foundation, prefix='Foundation')], axis=1)\n",
    "df.BsmtQual.fillna('Not precised', inplace=True)\n",
    "df.BsmtCond.fillna('Not precised', inplace=True)\n",
    "df.BsmtExposure.fillna('Not precised', inplace=True)\n",
    "df = pd.concat([df, pd.get_dummies(data=df.BsmtQual, prefix='BsmtQual')], axis=1)\n",
    "df = pd.concat([df, pd.get_dummies(data=df.BsmtCond, prefix='BsmtCond')], axis=1)\n",
    "df = pd.concat([df, pd.get_dummies(data=df.BsmtExposure, prefix='BsmtExposure')], axis=1)\n",
    "df = pd.concat([df, pd.get_dummies(data=df.BsmtFinType1, prefix='BsmtFinType1')], axis=1)\n",
    "df = pd.concat([df, pd.get_dummies(data=df.BsmtFinType2, prefix='BsmtFinType2')], axis=1)\n",
    "df = pd.concat([df, pd.get_dummies(data=df.Heating, prefix='Heating')], axis=1)\n",
    "df = pd.concat([df, pd.get_dummies(data=df.HeatingQC, prefix='HeatingQC')], axis=1)\n",
    "df = pd.concat([df, pd.get_dummies(data=df.CentralAir, prefix='CentralAir')], axis=1)\n",
    "df = pd.concat([df, pd.get_dummies(data=df.Electrical, prefix='Electrical')], axis=1)\n",
    "df = pd.concat([df, pd.get_dummies(data=df.KitchenQual, prefix='KitchenQual')], axis=1)\n",
    "df = pd.concat([df, pd.get_dummies(data=df.Functional, prefix='Functional')], axis=1)\n",
    "df = pd.concat([df, pd.get_dummies(data=df.FireplaceQu, prefix='FireplaceQu')], axis=1)\n",
    "df = pd.concat([df, pd.get_dummies(data=df.GarageType, prefix='GarageType')], axis=1)\n",
    "# tutaj nie wiem czy podzielic na kolumny po wartosciach liczbowych czy jest lepszy sposob\n",
    "df.GarageYrBlt.fillna('Not built', inplace=True)\n",
    "df = pd.concat([df, pd.get_dummies(data=df.GarageYrBlt, prefix='GarageYrBlt')], axis=1)\n",
    "df = pd.concat([df, pd.get_dummies(data=df.GarageFinish, prefix='GarageFinish')], axis=1)\n",
    "df = pd.concat([df, pd.get_dummies(data=df.GarageQual, prefix='GarageQual')], axis=1)\n",
    "df = pd.concat([df, pd.get_dummies(data=df.GarageCond, prefix='GarageCond')], axis=1)\n",
    "df = pd.concat([df, pd.get_dummies(data=df.PavedDrive, prefix='PavedDrive')], axis=1)\n",
    "df.PoolQC.fillna('None', inplace=True)\n",
    "df.Fence.fillna('None', inplace=True)\n",
    "df = pd.concat([df, pd.get_dummies(data=df.PoolQC, prefix='PoolQC')], axis=1)\n",
    "df = pd.concat([df, pd.get_dummies(data=df.Fence, prefix='Fence')], axis=1)\n",
    "df.MiscFeature.fillna('None', inplace=True)\n",
    "df = pd.concat([df, pd.get_dummies(data=df.MiscFeature, prefix='MiscFeature')], axis=1)\n",
    "df = pd.concat([df, pd.get_dummies(data=df.SaleType, prefix='SaleType')], axis=1)\n",
    "df = pd.concat([df, pd.get_dummies(data=df.SaleCondition, prefix='SaleCondition')], axis=1)\n",
    "\n",
    "df.drop(columns=['Street', 'MSZoning', 'Alley', 'LotShape', 'LandContour', 'Unique', 'Utilities', 'LotConfig',\n",
    "                 'LandSlope', 'Neighborhood', 'Condition1', 'Condition2', 'BldgType', 'HouseStyle', 'RoofStyle',\n",
    "                 'RoofMatl', 'Exterior1st', 'Exterior2nd', 'MasVnrType', 'ExterQual', 'ExterCond', 'Foundation',\n",
    "                 'BsmtQual', 'BsmtCond', 'BsmtExposure', 'BsmtFinType1', 'BsmtFinType2', 'Heating', 'HeatingQC',\n",
    "                 'CentralAir', 'Electrical', 'KitchenQual', 'Functional', 'FireplaceQu', 'GarageType', 'GarageFinish',\n",
    "                 'GarageQual', 'GarageCond', 'PavedDrive', 'PoolQC', 'Fence', 'MiscFeature', 'SaleType', 'SaleCondition'\n",
    "                 ], inplace=True, errors='ignore')"
   ],
   "metadata": {
    "collapsed": false,
    "pycharm": {
     "name": "#%%\n"
    }
   }
  },
  {
   "cell_type": "code",
   "execution_count": 76,
   "outputs": [
    {
     "data": {
      "text/plain": "      MSSubClass  LotFrontage  LotArea  OverallQual  OverallCond  YearBuilt  \\\nId                                                                            \n1             60         65.0     8450            7            5       2003   \n2             20         80.0     9600            6            8       1976   \n3             60         68.0    11250            7            5       2001   \n4             70         60.0     9550            7            5       1915   \n5             60         84.0    14260            8            5       2000   \n...          ...          ...      ...          ...          ...        ...   \n1456          60         62.0     7917            6            5       1999   \n1457          20         85.0    13175            6            6       1978   \n1458          70         66.0     9042            7            9       1941   \n1459          20         68.0     9717            5            6       1950   \n1460          20         75.0     9937            5            6       1965   \n\n      YearRemodAdd MasVnrArea  BsmtFinSF1  BsmtFinSF2  ...  SaleType_ConLw  \\\nId                                                     ...                   \n1             2003      196.0         706           0  ...               0   \n2             1976        0.0         978           0  ...               0   \n3             2002      162.0         486           0  ...               0   \n4             1970        0.0         216           0  ...               0   \n5             2000      350.0         655           0  ...               0   \n...            ...        ...         ...         ...  ...             ...   \n1456          2000        0.0           0           0  ...               0   \n1457          1988      119.0         790         163  ...               0   \n1458          2006        0.0         275           0  ...               0   \n1459          1996        0.0          49        1029  ...               0   \n1460          1965        0.0         830         290  ...               0   \n\n      SaleType_New  SaleType_Oth  SaleType_WD  SaleCondition_Abnorml  \\\nId                                                                     \n1                0             0            1                      0   \n2                0             0            1                      0   \n3                0             0            1                      0   \n4                0             0            1                      1   \n5                0             0            1                      0   \n...            ...           ...          ...                    ...   \n1456             0             0            1                      0   \n1457             0             0            1                      0   \n1458             0             0            1                      0   \n1459             0             0            1                      0   \n1460             0             0            1                      0   \n\n      SaleCondition_AdjLand  SaleCondition_Alloca  SaleCondition_Family  \\\nId                                                                        \n1                         0                     0                     0   \n2                         0                     0                     0   \n3                         0                     0                     0   \n4                         0                     0                     0   \n5                         0                     0                     0   \n...                     ...                   ...                   ...   \n1456                      0                     0                     0   \n1457                      0                     0                     0   \n1458                      0                     0                     0   \n1459                      0                     0                     0   \n1460                      0                     0                     0   \n\n      SaleCondition_Normal  SaleCondition_Partial  \nId                                                 \n1                        1                      0  \n2                        1                      0  \n3                        1                      0  \n4                        0                      0  \n5                        1                      0  \n...                    ...                    ...  \n1456                     1                      0  \n1457                     1                      0  \n1458                     1                      0  \n1459                     1                      0  \n1460                     1                      0  \n\n[1460 rows x 722 columns]",
      "text/html": "<div>\n<style scoped>\n    .dataframe tbody tr th:only-of-type {\n        vertical-align: middle;\n    }\n\n    .dataframe tbody tr th {\n        vertical-align: top;\n    }\n\n    .dataframe thead th {\n        text-align: right;\n    }\n</style>\n<table border=\"1\" class=\"dataframe\">\n  <thead>\n    <tr style=\"text-align: right;\">\n      <th></th>\n      <th>MSSubClass</th>\n      <th>LotFrontage</th>\n      <th>LotArea</th>\n      <th>OverallQual</th>\n      <th>OverallCond</th>\n      <th>YearBuilt</th>\n      <th>YearRemodAdd</th>\n      <th>MasVnrArea</th>\n      <th>BsmtFinSF1</th>\n      <th>BsmtFinSF2</th>\n      <th>...</th>\n      <th>SaleType_ConLw</th>\n      <th>SaleType_New</th>\n      <th>SaleType_Oth</th>\n      <th>SaleType_WD</th>\n      <th>SaleCondition_Abnorml</th>\n      <th>SaleCondition_AdjLand</th>\n      <th>SaleCondition_Alloca</th>\n      <th>SaleCondition_Family</th>\n      <th>SaleCondition_Normal</th>\n      <th>SaleCondition_Partial</th>\n    </tr>\n    <tr>\n      <th>Id</th>\n      <th></th>\n      <th></th>\n      <th></th>\n      <th></th>\n      <th></th>\n      <th></th>\n      <th></th>\n      <th></th>\n      <th></th>\n      <th></th>\n      <th></th>\n      <th></th>\n      <th></th>\n      <th></th>\n      <th></th>\n      <th></th>\n      <th></th>\n      <th></th>\n      <th></th>\n      <th></th>\n      <th></th>\n    </tr>\n  </thead>\n  <tbody>\n    <tr>\n      <th>1</th>\n      <td>60</td>\n      <td>65.0</td>\n      <td>8450</td>\n      <td>7</td>\n      <td>5</td>\n      <td>2003</td>\n      <td>2003</td>\n      <td>196.0</td>\n      <td>706</td>\n      <td>0</td>\n      <td>...</td>\n      <td>0</td>\n      <td>0</td>\n      <td>0</td>\n      <td>1</td>\n      <td>0</td>\n      <td>0</td>\n      <td>0</td>\n      <td>0</td>\n      <td>1</td>\n      <td>0</td>\n    </tr>\n    <tr>\n      <th>2</th>\n      <td>20</td>\n      <td>80.0</td>\n      <td>9600</td>\n      <td>6</td>\n      <td>8</td>\n      <td>1976</td>\n      <td>1976</td>\n      <td>0.0</td>\n      <td>978</td>\n      <td>0</td>\n      <td>...</td>\n      <td>0</td>\n      <td>0</td>\n      <td>0</td>\n      <td>1</td>\n      <td>0</td>\n      <td>0</td>\n      <td>0</td>\n      <td>0</td>\n      <td>1</td>\n      <td>0</td>\n    </tr>\n    <tr>\n      <th>3</th>\n      <td>60</td>\n      <td>68.0</td>\n      <td>11250</td>\n      <td>7</td>\n      <td>5</td>\n      <td>2001</td>\n      <td>2002</td>\n      <td>162.0</td>\n      <td>486</td>\n      <td>0</td>\n      <td>...</td>\n      <td>0</td>\n      <td>0</td>\n      <td>0</td>\n      <td>1</td>\n      <td>0</td>\n      <td>0</td>\n      <td>0</td>\n      <td>0</td>\n      <td>1</td>\n      <td>0</td>\n    </tr>\n    <tr>\n      <th>4</th>\n      <td>70</td>\n      <td>60.0</td>\n      <td>9550</td>\n      <td>7</td>\n      <td>5</td>\n      <td>1915</td>\n      <td>1970</td>\n      <td>0.0</td>\n      <td>216</td>\n      <td>0</td>\n      <td>...</td>\n      <td>0</td>\n      <td>0</td>\n      <td>0</td>\n      <td>1</td>\n      <td>1</td>\n      <td>0</td>\n      <td>0</td>\n      <td>0</td>\n      <td>0</td>\n      <td>0</td>\n    </tr>\n    <tr>\n      <th>5</th>\n      <td>60</td>\n      <td>84.0</td>\n      <td>14260</td>\n      <td>8</td>\n      <td>5</td>\n      <td>2000</td>\n      <td>2000</td>\n      <td>350.0</td>\n      <td>655</td>\n      <td>0</td>\n      <td>...</td>\n      <td>0</td>\n      <td>0</td>\n      <td>0</td>\n      <td>1</td>\n      <td>0</td>\n      <td>0</td>\n      <td>0</td>\n      <td>0</td>\n      <td>1</td>\n      <td>0</td>\n    </tr>\n    <tr>\n      <th>...</th>\n      <td>...</td>\n      <td>...</td>\n      <td>...</td>\n      <td>...</td>\n      <td>...</td>\n      <td>...</td>\n      <td>...</td>\n      <td>...</td>\n      <td>...</td>\n      <td>...</td>\n      <td>...</td>\n      <td>...</td>\n      <td>...</td>\n      <td>...</td>\n      <td>...</td>\n      <td>...</td>\n      <td>...</td>\n      <td>...</td>\n      <td>...</td>\n      <td>...</td>\n      <td>...</td>\n    </tr>\n    <tr>\n      <th>1456</th>\n      <td>60</td>\n      <td>62.0</td>\n      <td>7917</td>\n      <td>6</td>\n      <td>5</td>\n      <td>1999</td>\n      <td>2000</td>\n      <td>0.0</td>\n      <td>0</td>\n      <td>0</td>\n      <td>...</td>\n      <td>0</td>\n      <td>0</td>\n      <td>0</td>\n      <td>1</td>\n      <td>0</td>\n      <td>0</td>\n      <td>0</td>\n      <td>0</td>\n      <td>1</td>\n      <td>0</td>\n    </tr>\n    <tr>\n      <th>1457</th>\n      <td>20</td>\n      <td>85.0</td>\n      <td>13175</td>\n      <td>6</td>\n      <td>6</td>\n      <td>1978</td>\n      <td>1988</td>\n      <td>119.0</td>\n      <td>790</td>\n      <td>163</td>\n      <td>...</td>\n      <td>0</td>\n      <td>0</td>\n      <td>0</td>\n      <td>1</td>\n      <td>0</td>\n      <td>0</td>\n      <td>0</td>\n      <td>0</td>\n      <td>1</td>\n      <td>0</td>\n    </tr>\n    <tr>\n      <th>1458</th>\n      <td>70</td>\n      <td>66.0</td>\n      <td>9042</td>\n      <td>7</td>\n      <td>9</td>\n      <td>1941</td>\n      <td>2006</td>\n      <td>0.0</td>\n      <td>275</td>\n      <td>0</td>\n      <td>...</td>\n      <td>0</td>\n      <td>0</td>\n      <td>0</td>\n      <td>1</td>\n      <td>0</td>\n      <td>0</td>\n      <td>0</td>\n      <td>0</td>\n      <td>1</td>\n      <td>0</td>\n    </tr>\n    <tr>\n      <th>1459</th>\n      <td>20</td>\n      <td>68.0</td>\n      <td>9717</td>\n      <td>5</td>\n      <td>6</td>\n      <td>1950</td>\n      <td>1996</td>\n      <td>0.0</td>\n      <td>49</td>\n      <td>1029</td>\n      <td>...</td>\n      <td>0</td>\n      <td>0</td>\n      <td>0</td>\n      <td>1</td>\n      <td>0</td>\n      <td>0</td>\n      <td>0</td>\n      <td>0</td>\n      <td>1</td>\n      <td>0</td>\n    </tr>\n    <tr>\n      <th>1460</th>\n      <td>20</td>\n      <td>75.0</td>\n      <td>9937</td>\n      <td>5</td>\n      <td>6</td>\n      <td>1965</td>\n      <td>1965</td>\n      <td>0.0</td>\n      <td>830</td>\n      <td>290</td>\n      <td>...</td>\n      <td>0</td>\n      <td>0</td>\n      <td>0</td>\n      <td>1</td>\n      <td>0</td>\n      <td>0</td>\n      <td>0</td>\n      <td>0</td>\n      <td>1</td>\n      <td>0</td>\n    </tr>\n  </tbody>\n</table>\n<p>1460 rows × 722 columns</p>\n</div>"
     },
     "execution_count": 76,
     "metadata": {},
     "output_type": "execute_result"
    }
   ],
   "source": [
    "df"
   ],
   "metadata": {
    "collapsed": false,
    "pycharm": {
     "name": "#%%\n"
    }
   }
  },
  {
   "cell_type": "code",
   "execution_count": 77,
   "outputs": [
    {
     "data": {
      "text/plain": "False"
     },
     "execution_count": 77,
     "metadata": {},
     "output_type": "execute_result"
    }
   ],
   "source": [
    "# df.isna().any()\n",
    "df.isnull().values.any()"
   ],
   "metadata": {
    "collapsed": false,
    "pycharm": {
     "name": "#%%\n"
    }
   }
  }
 ],
 "metadata": {
  "kernelspec": {
   "display_name": "Python 3",
   "language": "python",
   "name": "python3"
  },
  "language_info": {
   "codemirror_mode": {
    "name": "ipython",
    "version": 2
   },
   "file_extension": ".py",
   "mimetype": "text/x-python",
   "name": "python",
   "nbconvert_exporter": "python",
   "pygments_lexer": "ipython2",
   "version": "2.7.6"
  }
 },
 "nbformat": 4,
 "nbformat_minor": 0
}