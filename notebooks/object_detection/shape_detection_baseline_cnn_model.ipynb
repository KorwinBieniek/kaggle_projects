{
 "cells": [
  {
   "cell_type": "markdown",
   "metadata": {},
   "source": [
    "- blog: https://towardsdatascience.com/object-detection-with-neural-networks-a4e2c46b4491\n",
    "- repo: https://github.com/jrieke/shape-detection/blob/master/color-multiple-shapes.ipynb"
   ]
  },
  {
   "cell_type": "code",
   "execution_count": 1,
   "metadata": {
    "ExecuteTime": {
     "end_time": "2016-07-04T17:28:39.034000",
     "start_time": "2016-07-04T17:28:38.325000"
    },
    "tags": []
   },
   "outputs": [],
   "source": [
    "import numpy as np\n",
    "import matplotlib.pyplot as plt\n",
    "import matplotlib\n",
    "%matplotlib inline"
   ]
  },
  {
   "cell_type": "code",
   "execution_count": 4,
   "metadata": {},
   "outputs": [
    {
     "name": "stdout",
     "output_type": "stream",
     "text": [
      "Collecting pycairo\n",
      "  Downloading pycairo-1.21.0-cp38-cp38-win_amd64.whl (1.3 MB)\n",
      "Installing collected packages: pycairo\n",
      "Successfully installed pycairo-1.21.0\n"
     ]
    }
   ],
   "source": [
    "!pip install pycairo"
   ]
  },
  {
   "cell_type": "code",
   "execution_count": 6,
   "metadata": {
    "ExecuteTime": {
     "end_time": "2016-07-05T22:57:56.251000",
     "start_time": "2016-07-05T22:57:54.426000"
    },
    "jupyter": {
     "outputs_hidden": false
    }
   },
   "outputs": [
    {
     "data": {
      "text/plain": [
       "((50000, 32, 32, 3), (50000, 2, 4), (50000, 2), (50000, 2))"
      ]
     },
     "execution_count": 6,
     "metadata": {},
     "output_type": "execute_result"
    }
   ],
   "source": [
    "import cairo\n",
    "num_imgs = 50000\n",
    "\n",
    "img_size = 32\n",
    "min_object_size = 4\n",
    "max_object_size = 16\n",
    "num_objects = 2\n",
    "\n",
    "bboxes = np.zeros((num_imgs, num_objects, 4))\n",
    "imgs = np.zeros((num_imgs, img_size, img_size, 4), dtype=np.uint8)  # format: BGRA\n",
    "shapes = np.zeros((num_imgs, num_objects), dtype=int)\n",
    "num_shapes = 3\n",
    "shape_labels = ['rectangle', 'circle', 'triangle']\n",
    "colors = np.zeros((num_imgs, num_objects), dtype=int)\n",
    "num_colors = 3\n",
    "color_labels = ['r', 'g', 'b']\n",
    "\n",
    "for i_img in range(num_imgs):\n",
    "    surface = cairo.ImageSurface.create_for_data(imgs[i_img], cairo.FORMAT_ARGB32, img_size, img_size)\n",
    "    cr = cairo.Context(surface)\n",
    "\n",
    "    # Fill background white.\n",
    "    cr.set_source_rgb(1, 1, 1)\n",
    "    cr.paint()\n",
    "    \n",
    "    # TODO: Try no overlap here.\n",
    "    # Draw random shapes.\n",
    "    for i_object in range(num_objects):\n",
    "        shape = np.random.randint(num_shapes)\n",
    "        shapes[i_img, i_object] = shape\n",
    "        if shape == 0:  # rectangle\n",
    "            w, h = np.random.randint(min_object_size, max_object_size, size=2)\n",
    "            x = np.random.randint(0, img_size - w)\n",
    "            y = np.random.randint(0, img_size - h)\n",
    "            bboxes[i_img, i_object] = [x, y, w, h]\n",
    "            cr.rectangle(x, y, w, h)            \n",
    "        elif shape == 1:  # circle   \n",
    "            r = 0.5 * np.random.randint(min_object_size, max_object_size)\n",
    "            x = np.random.randint(r, img_size - r)\n",
    "            y = np.random.randint(r, img_size - r)\n",
    "            bboxes[i_img, i_object] = [x - r, y - r, 2 * r, 2 * r]\n",
    "            cr.arc(x, y, r, 0, 2*np.pi)\n",
    "        elif shape == 2:  # triangle\n",
    "            w, h = np.random.randint(min_object_size, max_object_size, size=2)\n",
    "            x = np.random.randint(0, img_size - w)\n",
    "            y = np.random.randint(0, img_size - h)\n",
    "            bboxes[i_img, i_object] = [x, y, w, h]\n",
    "            cr.move_to(x, y)\n",
    "            cr.line_to(x+w, y)\n",
    "            cr.line_to(x+w, y+h)\n",
    "            cr.line_to(x, y)\n",
    "            cr.close_path()\n",
    "        \n",
    "        # TODO: Introduce some variation to the colors by adding a small random offset to the rgb values.\n",
    "        color = np.random.randint(num_colors)\n",
    "        colors[i_img, i_object] = color\n",
    "        max_offset = 0.3\n",
    "        r_offset, g_offset, b_offset = max_offset * 2. * (np.random.rand(3) - 0.5)\n",
    "        if color == 0:\n",
    "            cr.set_source_rgb(1-max_offset+r_offset, 0+g_offset, 0+b_offset)\n",
    "        elif color == 1:\n",
    "            cr.set_source_rgb(0+r_offset, 1-max_offset+g_offset, 0+b_offset)\n",
    "        elif color == 2:\n",
    "            cr.set_source_rgb(0+r_offset, 0-max_offset+g_offset, 1+b_offset)\n",
    "        cr.fill()\n",
    "        \n",
    "imgs = imgs[..., 2::-1]  # is BGRA, convert to RGB\n",
    "\n",
    "# surface.write_to_png('imgs/{}.png'.format(i_img))\n",
    "imgs.shape, bboxes.shape, shapes.shape, colors.shape"
   ]
  },
  {
   "cell_type": "code",
   "execution_count": 7,
   "metadata": {
    "ExecuteTime": {
     "end_time": "2016-07-05T22:57:56.856000",
     "start_time": "2016-07-05T22:57:56.254000"
    },
    "jupyter": {
     "outputs_hidden": false
    }
   },
   "outputs": [
    {
     "data": {
      "image/png": "[encoded data removed]",
      "text/plain": [
       "<Figure size 432x288 with 1 Axes>"
      ]
     },
     "metadata": {
      "needs_background": "light"
     },
     "output_type": "display_data"
    }
   ],
   "source": [
    "i = 5\n",
    "plt.imshow(imgs[i], interpolation='none', origin='lower', extent=[0, img_size, 0, img_size])\n",
    "for bbox, shape, color in zip(bboxes[i], shapes[i], colors[i]):\n",
    "    plt.gca().add_patch(matplotlib.patches.Rectangle((bbox[0], bbox[1]), bbox[2], bbox[3], ec='k', fc='none'))\n",
    "    plt.annotate(shape_labels[shape], (bbox[0], bbox[1] + bbox[3] + 0.7), color=color_labels[color], clip_on=False)\n",
    "# surface.write_to_png(\"circle.png\")"
   ]
  },
  {
   "cell_type": "code",
   "execution_count": 8,
   "metadata": {
    "ExecuteTime": {
     "end_time": "2016-07-05T23:55:30.611000",
     "start_time": "2016-07-05T23:55:26.822000"
    },
    "jupyter": {
     "outputs_hidden": false
    }
   },
   "outputs": [
    {
     "data": {
      "text/plain": [
       "((50000, 32, 32, 3), 0.40518325839971325, 0.2665339198472187)"
      ]
     },
     "execution_count": 8,
     "metadata": {},
     "output_type": "execute_result"
    }
   ],
   "source": [
    "X = (imgs - 128.) / 255.\n",
    "X.shape, np.mean(X), np.std(X)"
   ]
  },
  {
   "cell_type": "code",
   "execution_count": 9,
   "metadata": {},
   "outputs": [
    {
     "data": {
      "text/plain": [
       "(0.4980392156862745, -0.5019607843137255)"
      ]
     },
     "execution_count": 9,
     "metadata": {},
     "output_type": "execute_result"
    }
   ],
   "source": [
    "X.max(), X.min()"
   ]
  },
  {
   "cell_type": "code",
   "execution_count": 10,
   "metadata": {
    "ExecuteTime": {
     "end_time": "2016-07-05T23:55:33.242000",
     "start_time": "2016-07-05T23:55:33.179000"
    },
    "jupyter": {
     "outputs_hidden": false
    }
   },
   "outputs": [
    {
     "data": {
      "text/plain": [
       "((50000, 20), True)"
      ]
     },
     "execution_count": 10,
     "metadata": {},
     "output_type": "execute_result"
    }
   ],
   "source": [
    "colors_onehot = np.zeros((num_imgs, num_objects, num_colors))\n",
    "for i_img in range(num_imgs):\n",
    "    for i_object in range(num_objects):\n",
    "        colors_onehot[i_img, i_object, colors[i_img, i_object]] = 1\n",
    "\n",
    "shapes_onehot = np.zeros((num_imgs, num_objects, num_shapes))\n",
    "for i_img in range(num_imgs):\n",
    "    for i_object in range(num_objects):\n",
    "        shapes_onehot[i_img, i_object, shapes[i_img, i_object]] = 1\n",
    "        \n",
    "y = np.concatenate([bboxes / img_size, shapes_onehot, colors_onehot], axis=-1).reshape(num_imgs, -1)\n",
    "y.shape, np.all(np.argmax(colors_onehot, axis=-1) == colors)"
   ]
  },
  {
   "cell_type": "code",
   "execution_count": 11,
   "metadata": {
    "ExecuteTime": {
     "end_time": "2016-07-05T23:55:33.989000",
     "start_time": "2016-07-05T23:55:33.981000"
    },
    "tags": []
   },
   "outputs": [],
   "source": [
    "i = int(0.8 * num_imgs)\n",
    "train_X = X[:i]\n",
    "test_X = X[i:]\n",
    "train_y = y[:i]\n",
    "test_y = y[i:]\n",
    "test_imgs = imgs[i:]\n",
    "test_bboxes = bboxes[i:]"
   ]
  },
  {
   "cell_type": "code",
   "execution_count": 12,
   "metadata": {
    "ExecuteTime": {
     "end_time": "2016-07-06T00:27:51.515000",
     "start_time": "2016-07-06T00:27:50.598000"
    },
    "jupyter": {
     "outputs_hidden": false
    }
   },
   "outputs": [
    {
     "name": "stdout",
     "output_type": "stream",
     "text": [
      "Model: \"sequential\"\n",
      "_________________________________________________________________\n",
      "Layer (type)                 Output Shape              Param #   \n",
      "=================================================================\n",
      "conv2d (Conv2D)              (None, 32, 32, 32)        896       \n",
      "_________________________________________________________________\n",
      "max_pooling2d (MaxPooling2D) (None, 16, 16, 32)        0         \n",
      "_________________________________________________________________\n",
      "conv2d_1 (Conv2D)            (None, 16, 16, 64)        18496     \n",
      "_________________________________________________________________\n",
      "max_pooling2d_1 (MaxPooling2 (None, 8, 8, 64)          0         \n",
      "_________________________________________________________________\n",
      "conv2d_2 (Conv2D)            (None, 8, 8, 128)         73856     \n",
      "_________________________________________________________________\n",
      "max_pooling2d_2 (MaxPooling2 (None, 4, 4, 128)         0         \n",
      "_________________________________________________________________\n",
      "conv2d_3 (Conv2D)            (None, 4, 4, 128)         147584    \n",
      "_________________________________________________________________\n",
      "max_pooling2d_3 (MaxPooling2 (None, 2, 2, 128)         0         \n",
      "_________________________________________________________________\n",
      "flatten (Flatten)            (None, 512)               0         \n",
      "_________________________________________________________________\n",
      "dropout (Dropout)            (None, 512)               0         \n",
      "_________________________________________________________________\n",
      "dense (Dense)                (None, 256)               131328    \n",
      "_________________________________________________________________\n",
      "dropout_1 (Dropout)          (None, 256)               0         \n",
      "_________________________________________________________________\n",
      "dense_1 (Dense)              (None, 20)                5140      \n",
      "=================================================================\n",
      "Total params: 377,300\n",
      "Trainable params: 377,300\n",
      "Non-trainable params: 0\n",
      "_________________________________________________________________\n"
     ]
    }
   ],
   "source": [
    "from keras.models import Sequential\n",
    "from keras.layers import Dense, Activation, Dropout, Convolution2D, MaxPooling2D, Flatten\n",
    "\n",
    "# Activate GPU for this, otherwise the convnet will take forever to train with Theano.\n",
    "\n",
    "# TODO: Make one run with very deep network (~10 layers).\n",
    "filter_size = 3\n",
    "pool_size = 2\n",
    "\n",
    "# TODO: Maybe remove pooling bc it takes away the spatial information.\n",
    "\n",
    "model = Sequential([\n",
    "        Convolution2D(filters=32, kernel_size=(3, 3), input_shape=X.shape[1:], activation='relu', padding='same'), \n",
    "        MaxPooling2D(pool_size=(pool_size, pool_size)), \n",
    "        Convolution2D(filters=64, kernel_size=(3, 3), activation='relu', padding='same'), \n",
    "        MaxPooling2D(pool_size=(pool_size, pool_size)), \n",
    "        Convolution2D(filters=128,  kernel_size=(3, 3), activation='relu', padding='same'), \n",
    "        MaxPooling2D(pool_size=(pool_size, pool_size)), \n",
    "        Convolution2D(filters=128,  kernel_size=(3, 3), activation='relu', padding='same'), \n",
    "        MaxPooling2D(pool_size=(pool_size, pool_size)), \n",
    "        Flatten(), \n",
    "        Dropout(0.4), \n",
    "        Dense(256, activation='relu'), \n",
    "        Dropout(0.4), \n",
    "        Dense(y.shape[-1])\n",
    "    ])\n",
    "model.summary()\n",
    "model.compile('adadelta', 'mse')"
   ]
  },
  {
   "cell_type": "code",
   "execution_count": 13,
   "metadata": {},
   "outputs": [],
   "source": [
    "# Flip bboxes during training.\n",
    "# Note: The validation loss is always quite big here because we don't flip the bounding boxes for the validation data. \n",
    "def IOU(bbox1, bbox2):\n",
    "    '''Calculate overlap between two bounding boxes [x, y, w, h] as the area of intersection over the area of unity'''\n",
    "    x1, y1, w1, h1 = bbox1[0], bbox1[1], bbox1[2], bbox1[3]  # TODO: Check if its more performant if tensor elements are accessed directly below.\n",
    "    x2, y2, w2, h2 = bbox2[0], bbox2[1], bbox2[2], bbox2[3]\n",
    "\n",
    "    w_I = min(x1 + w1, x2 + w2) - max(x1, x2)\n",
    "    h_I = min(y1 + h1, y2 + h2) - max(y1, y2)\n",
    "    if w_I <= 0 or h_I <= 0:  # no overlap\n",
    "        return 0\n",
    "    I = w_I * h_I\n",
    "\n",
    "    U = w1 * h1 + w2 * h2 - I\n",
    "\n",
    "    return I / U\n",
    "\n",
    "def dist(bbox1, bbox2):\n",
    "    return np.sqrt(np.sum(np.square(bbox1[:2] - bbox2[:2])))\n",
    "\n",
    "num_epochs_flipping = 50\n",
    "num_epochs_no_flipping = 0  # has no significant effect\n",
    "\n",
    "flipped_train_y = np.array(train_y)\n",
    "flipped = np.zeros((len(train_y), num_epochs_flipping + num_epochs_no_flipping))\n",
    "ious_epoch = np.zeros((len(train_y), num_epochs_flipping + num_epochs_no_flipping))\n",
    "dists_epoch = np.zeros((len(train_y), num_epochs_flipping + num_epochs_no_flipping))\n",
    "mses_epoch = np.zeros((len(train_y), num_epochs_flipping + num_epochs_no_flipping))\n",
    "acc_shapes_epoch = np.zeros((len(train_y), num_epochs_flipping + num_epochs_no_flipping))\n",
    "acc_colors_epoch = np.zeros((len(train_y), num_epochs_flipping + num_epochs_no_flipping))\n",
    "\n",
    "flipped_test_y = np.array(test_y)\n",
    "flipped_test = np.zeros((len(test_y), num_epochs_flipping + num_epochs_no_flipping))\n",
    "ious_test_epoch = np.zeros((len(test_y), num_epochs_flipping + num_epochs_no_flipping))\n",
    "dists_test_epoch = np.zeros((len(test_y), num_epochs_flipping + num_epochs_no_flipping))\n",
    "mses_test_epoch = np.zeros((len(test_y), num_epochs_flipping + num_epochs_no_flipping))\n",
    "acc_shapes_test_epoch = np.zeros((len(test_y), num_epochs_flipping + num_epochs_no_flipping))\n",
    "acc_colors_test_epoch = np.zeros((len(test_y), num_epochs_flipping + num_epochs_no_flipping))"
   ]
  },
  {
   "cell_type": "code",
   "execution_count": 14,
   "metadata": {
    "ExecuteTime": {
     "end_time": "2016-07-06T16:47:14.477000",
     "start_time": "2016-07-06T00:27:51.517000"
    },
    "code_folding": [
     2,
     17
    ],
    "scrolled": true,
    "tags": []
   },
   "outputs": [],
   "source": [
    "# # TODO: Calculate ious directly for all samples (using slices of the array pred_y for x, y, w, h).\n",
    "# for epoch in range(num_epochs_flipping):\n",
    "#     print('Epoch', epoch)\n",
    "#     model.fit(train_X, flipped_train_y, epochs=1, validation_data=(test_X, test_y), verbose=2)\n",
    "#     pred_y = model.predict(train_X)\n",
    "\n",
    "#     for sample, (pred, exp) in enumerate(zip(pred_y, flipped_train_y)):\n",
    "        \n",
    "#         # TODO: Make this simpler.\n",
    "#         pred = pred.reshape(num_objects, -1)\n",
    "#         exp = exp.reshape(num_objects, -1)\n",
    "        \n",
    "#         pred_bboxes = pred[:, :4]\n",
    "#         exp_bboxes = exp[:, :4]\n",
    "        \n",
    "#         ious = np.zeros((num_objects, num_objects))\n",
    "#         dists = np.zeros((num_objects, num_objects))\n",
    "#         mses = np.zeros((num_objects, num_objects))\n",
    "#         for i, exp_bbox in enumerate(exp_bboxes):\n",
    "#             for j, pred_bbox in enumerate(pred_bboxes):\n",
    "#                 ious[i, j] = IOU(exp_bbox, pred_bbox)\n",
    "#                 dists[i, j] = dist(exp_bbox, pred_bbox)\n",
    "#                 mses[i, j] = np.mean(np.square(exp_bbox - pred_bbox))\n",
    "                \n",
    "#         new_order = np.zeros(num_objects, dtype=int)\n",
    "        \n",
    "#         for i in range(num_objects):\n",
    "#             # Find pred and exp bbox with maximum iou and assign them to each other (i.e. switch the positions of the exp bboxes in y).\n",
    "#             ind_exp_bbox, ind_pred_bbox = np.unravel_index(ious.argmax(), ious.shape)\n",
    "#             ious_epoch[sample, epoch] += ious[ind_exp_bbox, ind_pred_bbox]\n",
    "#             dists_epoch[sample, epoch] += dists[ind_exp_bbox, ind_pred_bbox]\n",
    "#             mses_epoch[sample, epoch] += mses[ind_exp_bbox, ind_pred_bbox]\n",
    "#             ious[ind_exp_bbox] = -1  # set iou of assigned bboxes to -1, so they don't get assigned again\n",
    "#             ious[:, ind_pred_bbox] = -1\n",
    "#             new_order[ind_pred_bbox] = ind_exp_bbox\n",
    "        \n",
    "#         flipped_train_y[sample] = exp[new_order].flatten()\n",
    "        \n",
    "#         flipped[sample, epoch] = 1. - np.mean(new_order == np.arange(num_objects, dtype=int))#np.array_equal(new_order, np.arange(num_objects, dtype=int))  # TODO: Change this to reflect the number of flips.\n",
    "#         ious_epoch[sample, epoch] /= num_objects\n",
    "#         dists_epoch[sample, epoch] /= num_objects\n",
    "#         mses_epoch[sample, epoch] /= num_objects\n",
    "        \n",
    "#         acc_shapes_epoch[sample, epoch] = np.mean(np.argmax(pred[:, 4:4+num_shapes], axis=-1) == np.argmax(exp[:, 4:4+num_shapes], axis=-1))\n",
    "#         acc_colors_epoch[sample, epoch] = np.mean(np.argmax(pred[:, 4+num_shapes:4+num_shapes+num_colors], axis=-1) == np.argmax(exp[:, 4+num_shapes:4+num_shapes+num_colors], axis=-1))\n",
    "\n",
    "    \n",
    "#     # Calculate metrics on test data. \n",
    "#     pred_test_y = model.predict(test_X)\n",
    "#     # TODO: Make this simpler.\n",
    "#     for sample, (pred, exp) in enumerate(zip(pred_test_y, flipped_test_y)):\n",
    "        \n",
    "#         # TODO: Make this simpler.\n",
    "#         pred = pred.reshape(num_objects, -1)\n",
    "#         exp = exp.reshape(num_objects, -1)\n",
    "        \n",
    "#         pred_bboxes = pred[:, :4]\n",
    "#         exp_bboxes = exp[:, :4]\n",
    "        \n",
    "#         ious = np.zeros((num_objects, num_objects))\n",
    "#         dists = np.zeros((num_objects, num_objects))\n",
    "#         mses = np.zeros((num_objects, num_objects))\n",
    "#         for i, exp_bbox in enumerate(exp_bboxes):\n",
    "#             for j, pred_bbox in enumerate(pred_bboxes):\n",
    "#                 ious[i, j] = IOU(exp_bbox, pred_bbox)\n",
    "#                 dists[i, j] = dist(exp_bbox, pred_bbox)\n",
    "#                 mses[i, j] = np.mean(np.square(exp_bbox - pred_bbox))\n",
    "                \n",
    "#         new_order = np.zeros(num_objects, dtype=int)\n",
    "        \n",
    "#         for i in range(num_objects):\n",
    "#             # Find pred and exp bbox with maximum iou and assign them to each other (i.e. switch the positions of the exp bboxes in y).\n",
    "#             ind_exp_bbox, ind_pred_bbox = np.unravel_index(mses.argmin(), mses.shape)\n",
    "#             ious_test_epoch[sample, epoch] += ious[ind_exp_bbox, ind_pred_bbox]\n",
    "#             dists_test_epoch[sample, epoch] += dists[ind_exp_bbox, ind_pred_bbox]\n",
    "#             mses_test_epoch[sample, epoch] += mses[ind_exp_bbox, ind_pred_bbox]\n",
    "#             mses[ind_exp_bbox] = 1000000#-1  # set iou of assigned bboxes to -1, so they don't get assigned again\n",
    "#             mses[:, ind_pred_bbox] = 10000000#-1\n",
    "#             new_order[ind_pred_bbox] = ind_exp_bbox\n",
    "        \n",
    "#         flipped_test_y[sample] = exp[new_order].flatten()\n",
    "        \n",
    "#         flipped_test[sample, epoch] = 1. - np.mean(new_order == np.arange(num_objects, dtype=int))#np.array_equal(new_order, np.arange(num_objects, dtype=int))  # TODO: Change this to reflect the number of flips.\n",
    "#         ious_test_epoch[sample, epoch] /= num_objects\n",
    "#         dists_test_epoch[sample, epoch] /= num_objects\n",
    "#         mses_test_epoch[sample, epoch] /= num_objects\n",
    "        \n",
    "#         acc_shapes_test_epoch[sample, epoch] = np.mean(np.argmax(pred[:, 4:4+num_shapes], axis=-1) == np.argmax(exp[:, 4:4+num_shapes], axis=-1))\n",
    "#         acc_colors_test_epoch[sample, epoch] = np.mean(np.argmax(pred[:, 4+num_shapes:4+num_shapes+num_colors], axis=-1) == np.argmax(exp[:, 4+num_shapes:4+num_shapes+num_colors], axis=-1))\n",
    "       \n",
    "            \n",
    "#     print('Flipped {} % of all elements'.format(np.mean(flipped[:, epoch]) * 100.))\n",
    "#     print('Mean IOU: {}'.format(np.mean(ious_epoch[:, epoch])))\n",
    "#     print('Mean dist: {}'.format(np.mean(dists_epoch[:, epoch])))\n",
    "#     print('Mean mse: {}'.format(np.mean(mses_epoch[:, epoch])))\n",
    "#     print('Accuracy shapes: {}'.format(np.mean(acc_shapes_epoch[:, epoch])))\n",
    "#     print('Accuracy colors: {}'.format(np.mean(acc_colors_epoch[:, epoch])))\n",
    "    \n",
    "#     print('--------------- TEST ----------------')\n",
    "#     print('Flipped {} % of all elements'.format(np.mean(flipped_test[:, epoch]) * 100.))\n",
    "#     print('Mean IOU: {}'.format(np.mean(ious_test_epoch[:, epoch])))\n",
    "#     print('Mean dist: {}'.format(np.mean(dists_test_epoch[:, epoch])))\n",
    "#     print('Mean mse: {}'.format(np.mean(mses_test_epoch[:, epoch])))\n",
    "#     print('Accuracy shapes: {}'.format(np.mean(acc_shapes_test_epoch[:, epoch])))\n",
    "#     print('Accuracy colors: {}'.format(np.mean(acc_colors_test_epoch[:, epoch])))  "
   ]
  },
  {
   "cell_type": "code",
   "execution_count": null,
   "metadata": {},
   "outputs": [
    {
     "name": "stdout",
     "output_type": "stream",
     "text": [
      "------------------------------------\n",
      "Training now without flipping bboxes\n",
      "------------------------------------\n",
      "Epoch 0\n",
      "1250/1250 - 26s - loss: 0.2375 - val_loss: 0.2045\n",
      "Mean IOU: 0.0008732191862515474\n",
      "Mean dist: 0.4174894696063626\n",
      "Mean mse: 0.20466495786443098\n",
      "Epoch 1\n",
      "1250/1250 - 26s - loss: 0.1945 - val_loss: 0.1608\n",
      "Mean IOU: 0.04379963614942234\n",
      "Mean dist: 0.3053680842456495\n",
      "Mean mse: 0.16090412347850516\n",
      "Epoch 2\n",
      "1250/1250 - 26s - loss: 0.1751 - val_loss: 0.1512\n",
      "Mean IOU: 0.07550882407984391\n",
      "Mean dist: 0.2856766736406542\n",
      "Mean mse: 0.15127342623214388\n",
      "Epoch 3\n",
      "1250/1250 - 26s - loss: 0.1687 - val_loss: 0.1487\n",
      "Mean IOU: 0.0857273743598657\n",
      "Mean dist: 0.28087320082963463\n",
      "Mean mse: 0.14877028027623543\n",
      "Epoch 4\n",
      "1250/1250 - 27s - loss: 0.1653 - val_loss: 0.1475\n",
      "Mean IOU: 0.09166454878970129\n",
      "Mean dist: 0.2785626602610507\n",
      "Mean mse: 0.14752577317186427\n",
      "Epoch 5\n",
      "1250/1250 - 26s - loss: 0.1628 - val_loss: 0.1467\n",
      "Mean IOU: 0.09526635795936862\n",
      "Mean dist: 0.2770250587644588\n",
      "Mean mse: 0.14680811857168197\n",
      "Epoch 6\n",
      "1250/1250 - 26s - loss: 0.1610 - val_loss: 0.1461\n",
      "Mean IOU: 0.0990163348963813\n",
      "Mean dist: 0.2756858066482912\n",
      "Mean mse: 0.14617935001052434\n",
      "Epoch 7\n",
      "1250/1250 - 27s - loss: 0.1597 - val_loss: 0.1457\n",
      "Mean IOU: 0.10152124354021541\n",
      "Mean dist: 0.27481777463324486\n",
      "Mean mse: 0.14578995738894754\n",
      "Epoch 8\n",
      "1250/1250 - 26s - loss: 0.1585 - val_loss: 0.1454\n",
      "Mean IOU: 0.10394732006773838\n",
      "Mean dist: 0.2738514739542507\n",
      "Mean mse: 0.14545137478189554\n",
      "Epoch 9\n",
      "1250/1250 - 26s - loss: 0.1575 - val_loss: 0.1450\n",
      "Mean IOU: 0.1065771672075059\n",
      "Mean dist: 0.27310060766008915\n",
      "Mean mse: 0.14508709181723772\n",
      "Epoch 10\n",
      "1250/1250 - 29s - loss: 0.1569 - val_loss: 0.1448\n",
      "Mean IOU: 0.10813448014501194\n",
      "Mean dist: 0.27246038105284237\n",
      "Mean mse: 0.14486697567207293\n",
      "Epoch 11\n",
      "1250/1250 - 28s - loss: 0.1560 - val_loss: 0.1445\n",
      "Mean IOU: 0.10990875031126265\n",
      "Mean dist: 0.27173195246850385\n",
      "Mean mse: 0.14455955765619088\n",
      "Epoch 12\n",
      "1250/1250 - 28s - loss: 0.1553 - val_loss: 0.1442\n",
      "Mean IOU: 0.11202759797842038\n",
      "Mean dist: 0.2709582082158868\n",
      "Mean mse: 0.14425429181546287\n",
      "Epoch 13\n",
      "1250/1250 - 29s - loss: 0.1546 - val_loss: 0.1440\n",
      "Mean IOU: 0.1132935744899768\n",
      "Mean dist: 0.27038968467490193\n",
      "Mean mse: 0.14404288118914943\n",
      "Epoch 14\n",
      "1250/1250 - 27s - loss: 0.1540 - val_loss: 0.1437\n",
      "Mean IOU: 0.11499972063795191\n",
      "Mean dist: 0.2697081772198908\n",
      "Mean mse: 0.14377495759756254\n",
      "Epoch 15\n",
      "1250/1250 - 26s - loss: 0.1536 - val_loss: 0.1434\n",
      "Mean IOU: 0.11629563766650935\n",
      "Mean dist: 0.26909331189802477\n",
      "Mean mse: 0.14352177820028922\n",
      "Epoch 16\n",
      "1250/1250 - 27s - loss: 0.1531 - val_loss: 0.1431\n",
      "Mean IOU: 0.11820703311553334\n",
      "Mean dist: 0.26830037050748634\n",
      "Mean mse: 0.14319969315181816\n",
      "Epoch 17\n",
      "1250/1250 - 27s - loss: 0.1524 - val_loss: 0.1428\n",
      "Mean IOU: 0.11932965795501163\n",
      "Mean dist: 0.2676954078152946\n",
      "Mean mse: 0.1429351911970155\n",
      "Epoch 18\n",
      "1250/1250 - 26s - loss: 0.1521 - val_loss: 0.1426\n",
      "Mean IOU: 0.12087214862260898\n",
      "Mean dist: 0.26698996346320836\n",
      "Mean mse: 0.14264092215609372\n",
      "Epoch 19\n",
      "1250/1250 - 28s - loss: 0.1516 - val_loss: 0.1423\n",
      "Mean IOU: 0.1218603923087941\n",
      "Mean dist: 0.26648941289802597\n",
      "Mean mse: 0.14237343517294776\n",
      "Epoch 20\n",
      "1250/1250 - 29s - loss: 0.1513 - val_loss: 0.1420\n",
      "Mean IOU: 0.12341566390274736\n",
      "Mean dist: 0.26583190727282735\n",
      "Mean mse: 0.142047348389848\n",
      "Epoch 21\n",
      "1250/1250 - 28s - loss: 0.1507 - val_loss: 0.1416\n",
      "Mean IOU: 0.12441974407061093\n",
      "Mean dist: 0.2652511262652593\n",
      "Mean mse: 0.14172232462292841\n",
      "Epoch 22\n",
      "1250/1250 - 31s - loss: 0.1502 - val_loss: 0.1413\n",
      "Mean IOU: 0.12555865964669524\n",
      "Mean dist: 0.26464610287818296\n",
      "Mean mse: 0.14137760648170877\n",
      "Epoch 23\n",
      "1250/1250 - 27s - loss: 0.1497 - val_loss: 0.1409\n",
      "Mean IOU: 0.1268018537710185\n",
      "Mean dist: 0.26406120798348404\n",
      "Mean mse: 0.14101960392507332\n",
      "Epoch 24\n",
      "1250/1250 - 28s - loss: 0.1493 - val_loss: 0.1405\n",
      "Mean IOU: 0.12806700752874506\n",
      "Mean dist: 0.2634309098019741\n",
      "Mean mse: 0.14061161024498234\n",
      "Epoch 25\n",
      "1250/1250 - 28s - loss: 0.1488 - val_loss: 0.1401\n",
      "Mean IOU: 0.12912939185826816\n",
      "Mean dist: 0.2628458123570971\n",
      "Mean mse: 0.14019908502090517\n",
      "Epoch 26\n",
      "1250/1250 - 29s - loss: 0.1483 - val_loss: 0.1396\n",
      "Mean IOU: 0.13009213415779503\n",
      "Mean dist: 0.2623179343802606\n",
      "Mean mse: 0.13977375660388497\n",
      "Epoch 27\n",
      "1250/1250 - 28s - loss: 0.1479 - val_loss: 0.1392\n",
      "Mean IOU: 0.13110642129329053\n",
      "Mean dist: 0.2617911296855926\n",
      "Mean mse: 0.1393317966217814\n",
      "Epoch 28\n",
      "1250/1250 - 28s - loss: 0.1475 - val_loss: 0.1387\n",
      "Mean IOU: 0.13195107698298628\n",
      "Mean dist: 0.261236181978889\n",
      "Mean mse: 0.13886291184815996\n",
      "Epoch 29\n",
      "1250/1250 - 28s - loss: 0.1468 - val_loss: 0.1382\n",
      "Mean IOU: 0.13330109091119083\n",
      "Mean dist: 0.26058398058389887\n",
      "Mean mse: 0.1383152623553159\n",
      "Epoch 30\n",
      "1250/1250 - 29s - loss: 0.1463 - val_loss: 0.1376\n",
      "Mean IOU: 0.1342887255498989\n",
      "Mean dist: 0.25999765423924476\n",
      "Mean mse: 0.13778234082146243\n",
      "Epoch 31\n",
      "1250/1250 - 28s - loss: 0.1457 - val_loss: 0.1370\n",
      "Mean IOU: 0.13522163418153896\n",
      "Mean dist: 0.25939758802443985\n",
      "Mean mse: 0.13720680615782604\n",
      "Epoch 32\n",
      "1250/1250 - 29s - loss: 0.1452 - val_loss: 0.1364\n",
      "Mean IOU: 0.13639458107319255\n",
      "Mean dist: 0.2588488125296103\n",
      "Mean mse: 0.136581031308818\n",
      "Epoch 33\n",
      "1250/1250 - 29s - loss: 0.1446 - val_loss: 0.1358\n",
      "Mean IOU: 0.1369368825908826\n",
      "Mean dist: 0.2583425059242712\n",
      "Mean mse: 0.13598105426174956\n",
      "Epoch 34\n",
      "1250/1250 - 28s - loss: 0.1440 - val_loss: 0.1351\n",
      "Mean IOU: 0.13770317514013605\n",
      "Mean dist: 0.2578445491664045\n",
      "Mean mse: 0.13532534631674087\n",
      "Epoch 35\n",
      "1250/1250 - 27s - loss: 0.1434 - val_loss: 0.1344\n",
      "Mean IOU: 0.13876328260339688\n",
      "Mean dist: 0.25723970636266896\n",
      "Mean mse: 0.13462889560849312\n",
      "Epoch 36\n"
     ]
    }
   ],
   "source": [
    "print('------------------------------------')\n",
    "print('Training now without flipping bboxes')\n",
    "print('------------------------------------')\n",
    "    \n",
    "# for epoch in range(num_epochs_flipping, num_epochs_flipping + num_epochs_no_flipping):  # change to range(0, 50)\n",
    "for epoch in range(0, 50):\n",
    "    print('Epoch', epoch)\n",
    "    model.fit(train_X, flipped_train_y, epochs=1, validation_data=(test_X, test_y), verbose=2)\n",
    "    pred_y = model.predict(train_X)\n",
    "\n",
    "    # Calculate iou/dist, but don't flip.\n",
    "    for sample, (pred_bboxes, exp_bboxes) in enumerate(zip(pred_y, flipped_train_y)):\n",
    "        \n",
    "        pred_bboxes = pred_bboxes.reshape(num_objects, -1)\n",
    "        exp_bboxes = exp_bboxes.reshape(num_objects, -1)        \n",
    "        \n",
    "        for exp_bbox, pred_bbox in zip(exp_bboxes, pred_bboxes):\n",
    "            ious_epoch[sample, epoch] += IOU(exp_bbox, pred_bbox)\n",
    "            dists_epoch[sample, epoch] += dist(exp_bbox, pred_bbox)\n",
    "            mses_epoch[sample, epoch] += np.mean(np.square(exp_bbox - pred_bbox))\n",
    "            \n",
    "        ious_epoch[sample, epoch] /= num_objects\n",
    "        dists_epoch[sample, epoch] /= num_objects \n",
    "        mses_epoch[sample, epoch] /= num_objects \n",
    "            \n",
    "#     print 'Flipped {} % of all elements'.format(np.mean(flipped[:, epoch]) * 100.)\n",
    "    print('Mean IOU: {}'.format(np.mean(ious_epoch[:, epoch])))\n",
    "    print('Mean dist: {}'.format(np.mean(dists_epoch[:, epoch])))\n",
    "    print('Mean mse: {}'.format(np.mean(mses_epoch[:, epoch])))"
   ]
  },
  {
   "cell_type": "code",
   "execution_count": null,
   "metadata": {
    "ExecuteTime": {
     "end_time": "2016-07-06T00:26:47.814000",
     "start_time": "2016-07-06T00:26:43.399000"
    },
    "jupyter": {
     "outputs_hidden": false
    }
   },
   "outputs": [],
   "source": [
    "plt.style.use(\"dark_background\")\n",
    "# model.layers\n",
    "weights = model.layers[0].get_weights()[0]\n",
    "weights = weights.transpose(3, 0, 1, 2)\n",
    "print(weights.shape)\n",
    "# plt.imshow(weights[0] * 255. + 128., interpolation='none', origin='lower')\n",
    "print(np.mean(weights[0]), np.std(weights[0]), np.min(weights[0]), np.max(weights[0]))\n",
    "adj_weights = (weights * 255.) + 128.\n",
    "print(np.mean(adj_weights[0]), np.std(adj_weights[0]), np.min(adj_weights[0]), np.max(adj_weights[0]))\n",
    "plt.figure(figsize=(16, 8))\n",
    "for i in range(24):\n",
    "    plt.subplot(4, 6, i+1)\n",
    "    plt.imshow(adj_weights[i, :, :]/255., interpolation='none', origin='lower', cmap='Greys')"
   ]
  },
  {
   "cell_type": "code",
   "execution_count": null,
   "metadata": {
    "ExecuteTime": {
     "end_time": "2016-07-05T23:54:37.858000",
     "start_time": "2016-07-05T23:54:35.466000"
    },
    "jupyter": {
     "outputs_hidden": false
    }
   },
   "outputs": [],
   "source": [
    "plt.pcolor(flipped[:1000], cmap='Greys', vmax=1.)\n",
    "plt.axvline(num_epochs_flipping, c='r')\n",
    "plt.xlabel('Epoch')\n",
    "plt.ylabel('Training sample')"
   ]
  },
  {
   "cell_type": "code",
   "execution_count": null,
   "metadata": {
    "ExecuteTime": {
     "end_time": "2016-07-05T23:54:38.252000",
     "start_time": "2016-07-05T23:54:37.860000"
    },
    "jupyter": {
     "outputs_hidden": false
    }
   },
   "outputs": [],
   "source": [
    "mean_ious_epoch = np.mean(ious_epoch, axis=0)\n",
    "mean_dists_epoch = np.mean(dists_epoch, axis=0)\n",
    "mean_mses_epoch = np.mean(mses_epoch, axis=0)\n",
    "plt.plot(mean_ious_epoch, label='Mean IOU')  # between predicted and assigned true bboxes\n",
    "plt.plot(mean_dists_epoch, label='Mean distance')  # relative to image size\n",
    "plt.plot(mean_mses_epoch, label='Mean mse')  # relative to image size\n",
    "plt.annotate(np.round(np.max(mean_ious_epoch), 3), (len(mean_ious_epoch)-1, mean_ious_epoch[-1]+0.03), horizontalalignment='right', color='b')\n",
    "plt.annotate(np.round(np.min(mean_dists_epoch), 3), (len(mean_dists_epoch)-1, mean_dists_epoch[-1]+0.03), horizontalalignment='right', color='g')\n",
    "plt.annotate(np.round(np.min(mean_mses_epoch), 3), (len(mean_mses_epoch)-1, mean_mses_epoch[-1]+0.03), horizontalalignment='right', color='r')\n",
    "\n",
    "# TEST.\n",
    "mean_ious_epoch = np.mean(ious_test_epoch, axis=0)\n",
    "mean_dists_epoch = np.mean(dists_test_epoch, axis=0)\n",
    "mean_mses_epoch = np.mean(mses_test_epoch, axis=0)\n",
    "plt.plot(mean_ious_epoch, 'b--')  # between predicted and assigned true bboxes\n",
    "plt.plot(mean_dists_epoch, 'g--')  # relative to image size\n",
    "plt.plot(mean_mses_epoch, 'r--')  # relative to image size\n",
    "# plt.annotate(np.round(np.max(mean_ious_epoch), 3), (len(mean_ious_epoch)-1, mean_ious_epoch[-1]+0.03), horizontalalignment='right', color='b')\n",
    "# plt.annotate(np.round(np.min(mean_dists_epoch), 3), (len(mean_dists_epoch)-1, mean_dists_epoch[-1]+0.03), horizontalalignment='right', color='g')\n",
    "# plt.annotate(np.round(np.min(mean_mses_epoch), 3), (len(mean_mses_epoch)-1, mean_mses_epoch[-1]+0.03), horizontalalignment='right', color='r')\n",
    "\n",
    "# plt.axvline(num_epochs_flipping, c='r')\n",
    "plt.xlabel('Epoch')\n",
    "plt.legend(loc='upper left')\n",
    "plt.ylim(0, 0.6)\n",
    "\n",
    "# plt.savefig('plots/color-multiple-shapes_three-colors_bboxes.png', dpi=300)"
   ]
  },
  {
   "cell_type": "code",
   "execution_count": null,
   "metadata": {
    "ExecuteTime": {
     "end_time": "2016-07-05T23:54:40.181000",
     "start_time": "2016-07-05T23:54:38.255000"
    },
    "jupyter": {
     "outputs_hidden": false
    }
   },
   "outputs": [],
   "source": [
    "mean_acc_shapes_epoch = np.mean(acc_shapes_epoch, axis=0)\n",
    "mean_acc_colors_epoch = np.mean(acc_colors_epoch, axis=0)\n",
    "plt.plot(mean_acc_shapes_epoch, label='Accuracy shapes')  # between predicted and assigned true bboxes\n",
    "plt.plot(mean_acc_colors_epoch, label='Accuracy colors')\n",
    "plt.annotate(np.round(np.max(mean_acc_shapes_epoch), 3), (len(mean_acc_shapes_epoch)-1, mean_acc_shapes_epoch[-1]+0.03), horizontalalignment='right', color='b')\n",
    "plt.annotate(np.round(np.max(mean_acc_colors_epoch), 3), (len(mean_acc_colors_epoch)-1, mean_acc_colors_epoch[-1]+0.03), horizontalalignment='right', color='g')\n",
    "\n",
    "# TEST.\n",
    "mean_acc_shapes_epoch = np.mean(acc_shapes_test_epoch, axis=0)\n",
    "mean_acc_colors_epoch = np.mean(acc_colors_test_epoch, axis=0)\n",
    "plt.plot(mean_acc_shapes_epoch, 'b--')  # between predicted and assigned true bboxes\n",
    "plt.plot(mean_acc_colors_epoch, 'g--')\n",
    "# plt.annotate(np.round(np.max(mean_acc_shapes_epoch), 3), (len(mean_acc_shapes_epoch)-1, mean_acc_shapes_epoch[-1]+0.03), horizontalalignment='right', color='b')\n",
    "# plt.annotate(np.round(np.max(mean_acc_colors_epoch), 3), (len(mean_acc_colors_epoch)-1, mean_acc_colors_epoch[-1]+0.03), horizontalalignment='right', color='g')\n",
    "\n",
    "# plt.axvline(num_epochs_flipping, c='r')\n",
    "plt.xlabel('Epoch')\n",
    "plt.legend(loc='lower right')\n",
    "plt.ylim(0.5, 1)\n",
    "\n",
    "# plt.savefig('plots/color-multiple-shapes_three-colors_classification.png', dpi=300)"
   ]
  },
  {
   "cell_type": "code",
   "execution_count": null,
   "metadata": {
    "ExecuteTime": {
     "end_time": "2016-07-05T23:54:55.731000",
     "start_time": "2016-07-05T23:54:54.739000"
    },
    "jupyter": {
     "outputs_hidden": false
    }
   },
   "outputs": [],
   "source": [
    "pred_y = model.predict(test_X)\n",
    "pred_y = pred_y.reshape(len(pred_y), num_objects, -1)\n",
    "pred_bboxes = pred_y[..., :4] * img_size\n",
    "pred_shapes = np.argmax(pred_y[..., 4:4+num_shapes], axis=-1).astype(int)  # take max from probabilities\n",
    "# print pred_y[..., 4+num_shapes:4+num_shapes+num_colors].shape\n",
    "# print np.argmax(pred_y[..., 5:8], axis=-1).shape\n",
    "pred_colors = np.argmax(pred_y[..., 4+num_shapes:4+num_shapes+num_colors], axis=-1).astype(int)\n",
    "pred_bboxes.shape, pred_shapes.shape, pred_colors.shape"
   ]
  },
  {
   "cell_type": "code",
   "execution_count": null,
   "metadata": {
    "ExecuteTime": {
     "end_time": "2016-07-05T23:54:57.198000",
     "start_time": "2016-07-05T23:54:55.733000"
    },
    "jupyter": {
     "outputs_hidden": false
    }
   },
   "outputs": [],
   "source": [
    "plt.figure(figsize=(16, 8))\n",
    "for i_subplot in range(1, 9):\n",
    "    plt.subplot(2, 4, i_subplot)\n",
    "    i = np.random.randint(len(test_X))\n",
    "    plt.imshow(test_imgs[i], interpolation='none', origin='lower', extent=[0, img_size, 0, img_size])\n",
    "    for bbox, shape, color in zip(pred_bboxes[i], pred_shapes[i], pred_colors[i]):\n",
    "        plt.gca().add_patch(matplotlib.patches.Rectangle((bbox[0], bbox[1]), bbox[2], bbox[3], ec='k', fc='none'))\n",
    "        plt.annotate(shape_labels[shape], (bbox[0], bbox[1] + bbox[3] + 0.7), color=color_labels[color], clip_on=False, bbox={'fc': 'w', 'ec': 'none', 'pad': 1, 'alpha': 0.6})"
   ]
  },
  {
   "cell_type": "code",
   "execution_count": null,
   "metadata": {
    "ExecuteTime": {
     "end_time": "2016-07-05T18:09:07.838000",
     "start_time": "2016-07-05T18:09:07.831000"
    },
    "jupyter": {
     "outputs_hidden": false
    }
   },
   "outputs": [],
   "source": [
    "np.mean(pred_bboxes[:, :, 2]), np.std(pred_bboxes[:, :, 2])"
   ]
  },
  {
   "cell_type": "code",
   "execution_count": null,
   "metadata": {},
   "outputs": [],
   "source": []
  }
 ],
 "metadata": {
  "kernelspec": {
   "display_name": "Python 3 (ipykernel)",
   "language": "python",
   "name": "python3"
  },
  "language_info": {
   "codemirror_mode": {
    "name": "ipython",
    "version": 3
   },
   "file_extension": ".py",
   "mimetype": "text/x-python",
   "name": "python",
   "nbconvert_exporter": "python",
   "pygments_lexer": "ipython3",
   "version": "3.8.12"
  }
 },
 "nbformat": 4,
 "nbformat_minor": 4
}