{
 "cells": [
  {
   "cell_type": "markdown",
   "id": "9de3dbe1",
   "metadata": {},
   "source": [
    "*Prepared for the course \"TDPS22: Data Science Programming\" at Jönköping University, Teacher: [Marcel Bollmann](mailto:marcel.bollmann@ju.se)*\n",
    "\n",
    "# Assignment 1: Data Science Workflows in Python\n",
    "\n",
    "In this assignment, you will analyze a dataset about vehicle registrations in Sweden.  The data comes directly from the statistical database of [Statistics Sweden (SCB)](https://scb.se/en/) and contains \"new registrations of passenger cars by region and by type of fuel\" between January 2006 and March 2022. \n",
    "\n",
    "### Instructions\n",
    "\n",
    "- The assignment is structured into parts, each of which consists of one or more tasks and/or questions.  You should provide your code to arrive at the solutions _directly below_ the respective task/question in this notebook.  You can add as many cells as you want and perform as many intermediate steps as you want, but **the last output of each task/question should clearly show the answer** to that task or question.\n",
    "\n",
    "\n",
    "- You are allowed to consult any resources (books/websites/exercises), but each assignment group should **work on the assignment on their own.**   You may ask questions about specific Pandas/Seaborn/Scikit-learn/etc. functionality or about the previous exercises on Canvas, but **you may _not_ directly share answers for tasks in this assignment.**\n",
    "\n",
    "\n",
    "- You should **submit your finished assignment as a single Jupyter notebook file** through Canvas. ***Before you submit,*** make sure that your notebook runs correctly from start to finish. In Jupyter Notebook, you can do this by going to the menu, choosing \"Kernel\", then \"Restart & Run All\", and verify that all cells show the expected output.\n",
    "\n",
    "\n",
    "### Grading\n",
    "\n",
    "- This assignment is graded Pass/Fail.\n",
    "\n",
    "\n",
    "- In order of importance, the criteria for passing are **demonstrating an understanding** of how to implement data science tasks in Python, **correctness** of the solution, as well as **clean coding style**. You do _not_ need to find the \"shortest\" or \"most elegant\" solution to each problem. It is more important that you show an understanding of how to manipulate, visualize, and model data in Python; arrive at a correct solution; and that I can understand your reasoning for what you did and why you did it. I encourage you to _use comments in your code_ to explain your approach when the code gets more complex.\n",
    "\n",
    "\n",
    "- To _pass_ this assignment, you must provide a solution for _all of the tasks below_.  You can still pass if some of your solutions are not entirely correct or lacking in coding style, as long as they show a general understanding of how to approach the problem.\n",
    "\n",
    "- - -"
   ]
  },
  {
   "cell_type": "code",
   "execution_count": 1,
   "id": "da210067",
   "metadata": {},
   "outputs": [],
   "source": [
    "# optional:\n",
    "# %load_ext rich"
   ]
  },
  {
   "cell_type": "code",
   "execution_count": 2,
   "id": "60a64316",
   "metadata": {},
   "outputs": [
    {
     "data": {
      "text/html": [
       "<div>\n",
       "<style scoped>\n",
       "    .dataframe tbody tr th:only-of-type {\n",
       "        vertical-align: middle;\n",
       "    }\n",
       "\n",
       "    .dataframe tbody tr th {\n",
       "        vertical-align: top;\n",
       "    }\n",
       "\n",
       "    .dataframe thead th {\n",
       "        text-align: right;\n",
       "    }\n",
       "</style>\n",
       "<table border=\"1\" class=\"dataframe\">\n",
       "  <thead>\n",
       "    <tr style=\"text-align: right;\">\n",
       "      <th></th>\n",
       "      <th>region</th>\n",
       "      <th>fuel</th>\n",
       "      <th>2006M01</th>\n",
       "      <th>2006M02</th>\n",
       "      <th>2006M03</th>\n",
       "      <th>2006M04</th>\n",
       "      <th>2006M05</th>\n",
       "      <th>2006M06</th>\n",
       "      <th>2006M07</th>\n",
       "      <th>2006M08</th>\n",
       "      <th>...</th>\n",
       "      <th>2021M06</th>\n",
       "      <th>2021M07</th>\n",
       "      <th>2021M08</th>\n",
       "      <th>2021M09</th>\n",
       "      <th>2021M10</th>\n",
       "      <th>2021M11</th>\n",
       "      <th>2021M12</th>\n",
       "      <th>2022M01</th>\n",
       "      <th>2022M02</th>\n",
       "      <th>2022M03</th>\n",
       "    </tr>\n",
       "  </thead>\n",
       "  <tbody>\n",
       "    <tr>\n",
       "      <th>0</th>\n",
       "      <td>Stockholm</td>\n",
       "      <td>petrol</td>\n",
       "      <td>2824</td>\n",
       "      <td>3431</td>\n",
       "      <td>4291</td>\n",
       "      <td>4872</td>\n",
       "      <td>5819</td>\n",
       "      <td>5648</td>\n",
       "      <td>3450</td>\n",
       "      <td>4087</td>\n",
       "      <td>...</td>\n",
       "      <td>3194</td>\n",
       "      <td>1607</td>\n",
       "      <td>1566</td>\n",
       "      <td>1511</td>\n",
       "      <td>1338</td>\n",
       "      <td>1316</td>\n",
       "      <td>1430</td>\n",
       "      <td>1226</td>\n",
       "      <td>1261</td>\n",
       "      <td>1702</td>\n",
       "    </tr>\n",
       "    <tr>\n",
       "      <th>1</th>\n",
       "      <td>Stockholm</td>\n",
       "      <td>diesel</td>\n",
       "      <td>884</td>\n",
       "      <td>895</td>\n",
       "      <td>1022</td>\n",
       "      <td>1059</td>\n",
       "      <td>1160</td>\n",
       "      <td>1059</td>\n",
       "      <td>783</td>\n",
       "      <td>1060</td>\n",
       "      <td>...</td>\n",
       "      <td>2151</td>\n",
       "      <td>713</td>\n",
       "      <td>975</td>\n",
       "      <td>1136</td>\n",
       "      <td>755</td>\n",
       "      <td>789</td>\n",
       "      <td>998</td>\n",
       "      <td>819</td>\n",
       "      <td>949</td>\n",
       "      <td>1121</td>\n",
       "    </tr>\n",
       "    <tr>\n",
       "      <th>2</th>\n",
       "      <td>Stockholm</td>\n",
       "      <td>electricity</td>\n",
       "      <td>1</td>\n",
       "      <td>0</td>\n",
       "      <td>0</td>\n",
       "      <td>0</td>\n",
       "      <td>0</td>\n",
       "      <td>0</td>\n",
       "      <td>0</td>\n",
       "      <td>0</td>\n",
       "      <td>...</td>\n",
       "      <td>3160</td>\n",
       "      <td>695</td>\n",
       "      <td>1331</td>\n",
       "      <td>2415</td>\n",
       "      <td>1576</td>\n",
       "      <td>1923</td>\n",
       "      <td>3306</td>\n",
       "      <td>1612</td>\n",
       "      <td>1879</td>\n",
       "      <td>3415</td>\n",
       "    </tr>\n",
       "    <tr>\n",
       "      <th>3</th>\n",
       "      <td>Stockholm</td>\n",
       "      <td>electric hybrid</td>\n",
       "      <td>101</td>\n",
       "      <td>87</td>\n",
       "      <td>131</td>\n",
       "      <td>102</td>\n",
       "      <td>95</td>\n",
       "      <td>118</td>\n",
       "      <td>72</td>\n",
       "      <td>108</td>\n",
       "      <td>...</td>\n",
       "      <td>946</td>\n",
       "      <td>452</td>\n",
       "      <td>446</td>\n",
       "      <td>420</td>\n",
       "      <td>408</td>\n",
       "      <td>435</td>\n",
       "      <td>506</td>\n",
       "      <td>471</td>\n",
       "      <td>523</td>\n",
       "      <td>653</td>\n",
       "    </tr>\n",
       "    <tr>\n",
       "      <th>4</th>\n",
       "      <td>Stockholm</td>\n",
       "      <td>plug-in hybrid</td>\n",
       "      <td>0</td>\n",
       "      <td>0</td>\n",
       "      <td>0</td>\n",
       "      <td>0</td>\n",
       "      <td>0</td>\n",
       "      <td>0</td>\n",
       "      <td>0</td>\n",
       "      <td>0</td>\n",
       "      <td>...</td>\n",
       "      <td>5204</td>\n",
       "      <td>1854</td>\n",
       "      <td>2070</td>\n",
       "      <td>1961</td>\n",
       "      <td>2084</td>\n",
       "      <td>2571</td>\n",
       "      <td>2988</td>\n",
       "      <td>2171</td>\n",
       "      <td>2372</td>\n",
       "      <td>2837</td>\n",
       "    </tr>\n",
       "    <tr>\n",
       "      <th>...</th>\n",
       "      <td>...</td>\n",
       "      <td>...</td>\n",
       "      <td>...</td>\n",
       "      <td>...</td>\n",
       "      <td>...</td>\n",
       "      <td>...</td>\n",
       "      <td>...</td>\n",
       "      <td>...</td>\n",
       "      <td>...</td>\n",
       "      <td>...</td>\n",
       "      <td>...</td>\n",
       "      <td>...</td>\n",
       "      <td>...</td>\n",
       "      <td>...</td>\n",
       "      <td>...</td>\n",
       "      <td>...</td>\n",
       "      <td>...</td>\n",
       "      <td>...</td>\n",
       "      <td>...</td>\n",
       "      <td>...</td>\n",
       "      <td>...</td>\n",
       "    </tr>\n",
       "    <tr>\n",
       "      <th>163</th>\n",
       "      <td>Norrbotten</td>\n",
       "      <td>electric hybrid</td>\n",
       "      <td>3</td>\n",
       "      <td>0</td>\n",
       "      <td>2</td>\n",
       "      <td>1</td>\n",
       "      <td>3</td>\n",
       "      <td>2</td>\n",
       "      <td>1</td>\n",
       "      <td>5</td>\n",
       "      <td>...</td>\n",
       "      <td>49</td>\n",
       "      <td>38</td>\n",
       "      <td>28</td>\n",
       "      <td>35</td>\n",
       "      <td>33</td>\n",
       "      <td>24</td>\n",
       "      <td>37</td>\n",
       "      <td>68</td>\n",
       "      <td>51</td>\n",
       "      <td>56</td>\n",
       "    </tr>\n",
       "    <tr>\n",
       "      <th>164</th>\n",
       "      <td>Norrbotten</td>\n",
       "      <td>plug-in hybrid</td>\n",
       "      <td>0</td>\n",
       "      <td>0</td>\n",
       "      <td>0</td>\n",
       "      <td>0</td>\n",
       "      <td>0</td>\n",
       "      <td>0</td>\n",
       "      <td>0</td>\n",
       "      <td>0</td>\n",
       "      <td>...</td>\n",
       "      <td>59</td>\n",
       "      <td>29</td>\n",
       "      <td>38</td>\n",
       "      <td>57</td>\n",
       "      <td>68</td>\n",
       "      <td>53</td>\n",
       "      <td>37</td>\n",
       "      <td>37</td>\n",
       "      <td>51</td>\n",
       "      <td>54</td>\n",
       "    </tr>\n",
       "    <tr>\n",
       "      <th>165</th>\n",
       "      <td>Norrbotten</td>\n",
       "      <td>ethanol/ethanol flexifuel</td>\n",
       "      <td>35</td>\n",
       "      <td>31</td>\n",
       "      <td>33</td>\n",
       "      <td>25</td>\n",
       "      <td>26</td>\n",
       "      <td>25</td>\n",
       "      <td>23</td>\n",
       "      <td>61</td>\n",
       "      <td>...</td>\n",
       "      <td>7</td>\n",
       "      <td>11</td>\n",
       "      <td>4</td>\n",
       "      <td>6</td>\n",
       "      <td>5</td>\n",
       "      <td>5</td>\n",
       "      <td>5</td>\n",
       "      <td>0</td>\n",
       "      <td>5</td>\n",
       "      <td>8</td>\n",
       "    </tr>\n",
       "    <tr>\n",
       "      <th>166</th>\n",
       "      <td>Norrbotten</td>\n",
       "      <td>gas/gas flex</td>\n",
       "      <td>1</td>\n",
       "      <td>0</td>\n",
       "      <td>0</td>\n",
       "      <td>0</td>\n",
       "      <td>0</td>\n",
       "      <td>0</td>\n",
       "      <td>0</td>\n",
       "      <td>0</td>\n",
       "      <td>...</td>\n",
       "      <td>1</td>\n",
       "      <td>0</td>\n",
       "      <td>0</td>\n",
       "      <td>0</td>\n",
       "      <td>0</td>\n",
       "      <td>0</td>\n",
       "      <td>0</td>\n",
       "      <td>0</td>\n",
       "      <td>1</td>\n",
       "      <td>0</td>\n",
       "    </tr>\n",
       "    <tr>\n",
       "      <th>167</th>\n",
       "      <td>Norrbotten</td>\n",
       "      <td>other fuels</td>\n",
       "      <td>0</td>\n",
       "      <td>0</td>\n",
       "      <td>0</td>\n",
       "      <td>0</td>\n",
       "      <td>0</td>\n",
       "      <td>0</td>\n",
       "      <td>0</td>\n",
       "      <td>0</td>\n",
       "      <td>...</td>\n",
       "      <td>0</td>\n",
       "      <td>0</td>\n",
       "      <td>0</td>\n",
       "      <td>0</td>\n",
       "      <td>0</td>\n",
       "      <td>0</td>\n",
       "      <td>0</td>\n",
       "      <td>0</td>\n",
       "      <td>0</td>\n",
       "      <td>0</td>\n",
       "    </tr>\n",
       "  </tbody>\n",
       "</table>\n",
       "<p>168 rows × 197 columns</p>\n",
       "</div>"
      ]
     },
     "execution_count": 2,
     "metadata": {},
     "output_type": "execute_result"
    }
   ],
   "source": [
    "### SETUP -- You should NOT need to modify this cell, but you can add your own imports later\n",
    "%matplotlib inline\n",
    "import numpy as np\n",
    "import pandas as pd\n",
    "import matplotlib.pyplot as plt\n",
    "import seaborn as sns\n",
    "sns.set()\n",
    "\n",
    "df = pd.read_csv(\"data/sweden-vehicle.csv\")\n",
    "df"
   ]
  },
  {
   "cell_type": "markdown",
   "id": "8d63dea4",
   "metadata": {},
   "source": [
    "- - - \n",
    "## Part 1: Transform the dataset from wide form into long form!\n",
    "\n",
    "There is currently one column for each month in the dataset (\"2006M01\", \"2006M02\", ...). This is an example of _wide-form data,_ because one variable (= the date of registration) is expressed in the column index instead of table cells. This can make it challenging to perform analyses based on this variable. It is often much easier to work with _long-form data_ instead, so the first thing you should do is to **convert the DataFrame into long form.**\n",
    "\n",
    "I suggest making a single \"date\" column containing a Pandas `datetime` object, but you can also make \"month\"/\"year\" columns instead or in addition. The important aspect is that you transform the dataset into long form, so that after this conversion, your dataset looks approximately like this:\n",
    "\n",
    "|       | **region** | **fuel**         | **date**    | **vehicles** |\n",
    "|-------|------------|------------------|-------------|--------------|\n",
    "| **0** | Stockholm  | petrol           | 2006-01-01  | 2824         |\n",
    "| **1** | Stockholm  | diesel           | 2006-01-01  | 884          |\n",
    "| **2** | Stockholm  | electricity      | 2006-01-01  | 1            |\n",
    "| ...   | ...        | ...              | ...         | ...          |\n",
    "\n",
    "- <span class=\"badge\">Task</span> **Provide code to convert `df` into long form!**"
   ]
  },
  {
   "cell_type": "code",
   "execution_count": 3,
   "id": "193d4649",
   "metadata": {},
   "outputs": [],
   "source": [
    "# YOUR CODE HERE"
   ]
  },
  {
   "cell_type": "markdown",
   "id": "035840d8",
   "metadata": {},
   "source": [
    "- - -\n",
    "\n",
    "> **Note:** If you can't fully solve Part 1, or you want to work on the other tasks first, you may uncomment the lines in the cell below to load the already-converted dataset for use with the next tasks."
   ]
  },
  {
   "cell_type": "code",
   "execution_count": 4,
   "id": "b8fde317",
   "metadata": {},
   "outputs": [],
   "source": [
    "# df_long = pd.read_csv(\"data/sweden-vehicle-longform.csv\")\n",
    "# df_long[\"date\"] = df_long[\"date\"].transform(pd.to_datetime)"
   ]
  },
  {
   "cell_type": "markdown",
   "id": "831bf629",
   "metadata": {},
   "source": [
    "- - - \n",
    "## Part 2: Answer questions about the data using Pandas functionality!\n",
    "\n",
    "Answer each of the following questions by using Pandas functionality. You can also use other built-in Python functions, but you should _not_ use any visualizations yet to answer the questions in this part. You can use either the original (wide-form) DataFrame, or the transformed (long-form) DataFrame from Task 1, or both, whatever you feel is easier for the question at hand."
   ]
  },
  {
   "cell_type": "markdown",
   "id": "d2c5e32f",
   "metadata": {},
   "source": [
    "1. <span class=\"badge\">Task</span> **How many different fuel types** are represented in the dataset, and what are they?"
   ]
  },
  {
   "cell_type": "code",
   "execution_count": 5,
   "id": "081d6947",
   "metadata": {},
   "outputs": [],
   "source": [
    "# YOUR CODE HERE"
   ]
  },
  {
   "cell_type": "markdown",
   "id": "b705acf3",
   "metadata": {},
   "source": [
    "2. <span class=\"badge\">Task</span> **How many different regions** are represented in the dataset, and what are they?"
   ]
  },
  {
   "cell_type": "code",
   "execution_count": 6,
   "id": "74d54c39",
   "metadata": {},
   "outputs": [],
   "source": [
    "# YOUR CODE HERE"
   ]
  },
  {
   "cell_type": "markdown",
   "id": "69f39cdd",
   "metadata": {},
   "source": [
    "3. <span class=\"badge\">Task</span> **How many vehicle registrations _in total_** does the dataset contain?"
   ]
  },
  {
   "cell_type": "code",
   "execution_count": 7,
   "id": "f4c5eb54",
   "metadata": {},
   "outputs": [],
   "source": [
    "# YOUR CODE HERE"
   ]
  },
  {
   "cell_type": "markdown",
   "id": "78372ca4",
   "metadata": {},
   "source": [
    "4. <span class=\"badge\">Task</span> **How many vehicle registrations _by fuel type_** does the dataset contain?"
   ]
  },
  {
   "cell_type": "code",
   "execution_count": 8,
   "id": "fbc879cf",
   "metadata": {},
   "outputs": [],
   "source": [
    "# YOUR CODE HERE"
   ]
  },
  {
   "cell_type": "markdown",
   "id": "ebb63758",
   "metadata": {},
   "source": [
    "5. <span class=\"badge\">Task</span> **What was the _most common fuel type_** among vehicles registered in Stockholm in 2006? What was it in 2021? (You can either give code that prints the answers directly, or produce a table from which you can read off the answers & add a sentence with the answers.)"
   ]
  },
  {
   "cell_type": "code",
   "execution_count": 9,
   "id": "e58fe310",
   "metadata": {},
   "outputs": [],
   "source": [
    "# YOUR CODE HERE"
   ]
  },
  {
   "cell_type": "markdown",
   "id": "252f52ac",
   "metadata": {},
   "source": [
    "6. <span class=\"badge\">Task</span> **When was the first _plug-in hybrid_ vehicle** registered in Sweden, and **where?** (You can either give code that prints the answer directly, or produce a table from which you can read off the answer & add a sentence with the answer.)"
   ]
  },
  {
   "cell_type": "code",
   "execution_count": 10,
   "id": "98404a23",
   "metadata": {},
   "outputs": [],
   "source": [
    "# YOUR CODE HERE"
   ]
  },
  {
   "cell_type": "markdown",
   "id": "d39fbfa9",
   "metadata": {},
   "source": [
    "- - - \n",
    "## Part 3: Visualize the registrations of different fuel types over time in Sweden!\n",
    "\n",
    "Your goal is to show how the registration of vehicles _by fuel type_ developed over the timespan of this dataset. You can do this with a _line plot,_ where the $x$-axis is for the date, the $y$-axis is for the number of vehicles registered, and lines of different colors/styles represent the different fuel types. Since we want to look at the data for all of Sweden, your visualization should show the _total registrations_ for all counties (i.e., the **sum** of registrations over all counties).\n",
    "\n",
    "1. <span class=\"badge\">Task</span> **Produce a line plot** as described above.\n",
    "\n",
    "   (_Note:_ If you use Seaborn, you might want to turn off the confidence interval that is plotted by default.)"
   ]
  },
  {
   "cell_type": "code",
   "execution_count": 11,
   "id": "90acfb61",
   "metadata": {},
   "outputs": [],
   "source": [
    "# YOUR CODE HERE"
   ]
  },
  {
   "cell_type": "markdown",
   "id": "0c03edc0",
   "metadata": {},
   "source": [
    "2. <span class=\"badge\">Task</span> **Aggregate the data and produce a second plot that only has _four_ fuel type categories as follows:**\n",
    "   - 'petrol' (same as before)\n",
    "   - 'diesel' (same as before)\n",
    "   - 'electric or hybrid' (contains 'electricity', 'electric hybrid', 'plug-in hybrid')\n",
    "   - 'other' (contains 'ethanol/ethanol flexifuel', 'gas/gas flex', 'other fuels')"
   ]
  },
  {
   "cell_type": "code",
   "execution_count": 12,
   "id": "c9350c25",
   "metadata": {
    "scrolled": true
   },
   "outputs": [],
   "source": [
    "# YOUR CODE HERE"
   ]
  },
  {
   "cell_type": "markdown",
   "id": "0de87e80",
   "metadata": {},
   "source": [
    "3. <span class=\"badge\">Task</span> **Clean up and tweak the styling of the previous plot**, including at least the following:\n",
    "   - Titles on the axes and the legend should be properly capitalized.\n",
    "   - The lines should be distinguished by _both_ color and line styles.\n",
    "   - The legend should be placed so that it does not obstruct/cover up any part of the plotted lines.\n",
    "\n",
    "   You can change any other property too—such as color palette, figure size, etc.—if you believe it improves the overall appearance and readability of the plot."
   ]
  },
  {
   "cell_type": "code",
   "execution_count": 13,
   "id": "4b666bea",
   "metadata": {},
   "outputs": [],
   "source": [
    "# YOUR CODE HERE"
   ]
  },
  {
   "cell_type": "markdown",
   "id": "693d5d2e",
   "metadata": {},
   "source": [
    "- - - \n",
    "## Part 4: Perform and plot Gaussian regressions of _diesel_ vehicle registrations!\n",
    "\n",
    "We are now looking at a subset of the data you plotted in Part 3: the total number of vehicles registered in Sweden each month which are **\"diesel\" vehicles.** Your goal is to **perform a regression with Gaussian basis functions** on this subset of the data and **plot the regression and the original data points** in a single plot. (_Note:_ You may copy and re-use code to create the Gaussian features from the [Python Data Science Handbook](https://jakevdp.github.io/PythonDataScienceHandbook/).)\n",
    "\n",
    "- <span class=\"badge\">Task</span> **Train a regression model using Gaussian basis functions** on the total number of registered _diesel_ vehicles per month.  You may choose the number of Gaussian features and whether or not to use any regularization.  Provide your code that trains this model on the data."
   ]
  },
  {
   "cell_type": "code",
   "execution_count": 14,
   "id": "685df783",
   "metadata": {},
   "outputs": [],
   "source": [
    "# YOUR CODE HERE"
   ]
  },
  {
   "cell_type": "markdown",
   "id": "77bf0fab",
   "metadata": {},
   "source": [
    "- <span class=\"badge\">Task</span> **Produce a visualization that contains:**\n",
    "\n",
    "   - a **scatter plot** of the total number of registered _diesel_ vehicles per month, where the $x$-axis is the date, and the $y$-axis is the total number of diesel vehicles registered in that month;\n",
    "   - a **line plot** on top of the scatter plot that shows the predictions of the Gaussian regression.\n",
    "\n",
    "   For better readability, **make the line plot a different color** from the scatter points. (You do _not_ need to perform any other layout tweaks for this task.)"
   ]
  },
  {
   "cell_type": "code",
   "execution_count": 15,
   "id": "2711820d",
   "metadata": {},
   "outputs": [],
   "source": [
    "# YOUR CODE HERE"
   ]
  },
  {
   "cell_type": "markdown",
   "id": "d50143ad",
   "metadata": {},
   "source": [
    "- - - \n",
    "## Part 5: Analyze the popularity of _electric-or-hybrid_ vehicles in Jönköping in March 2022!\n",
    "\n",
    "Your goal is to analyze how popular vehicles with electric-or-hybrid fuel types are, as measured by the number of vehicle registrations, compared to those with other fuel types.  Since counties differ a lot by population size, you should not compare _absolute_ numbers of registrations, but rather the _percentage_ of electric-or-hybrid cars compared to the other fuel types.  Concretely, you should analyze:\n",
    "\n",
    "- **how Jönköping compares** to other counties\n",
    "- in the **percentage of vehicle registrations that are \"electric or hybrid\"** _(use the definition of \"electric or hybrid\" vehicles from Task 3.2)_\n",
    "- in **March 2022.**\n",
    "\n",
    "Your analysis should allow you to answer the following questions:\n",
    "\n",
    "- Was the percentage of registered electric-or-hybric cars in Jönköping higher or lower than in, e.g., Stockholm?\n",
    "- How much higher is the percentage in Jönköping compared to the county with the lowest rate of electric-or-hybrid cars?\n",
    "- How much lower is the percentage in Jönköping compared to the county with the highest rate of electric-or-hybrid cars?\n",
    "\n",
    "<span class=\"badge\">Task</span> **Produce a table or visualization that is suitable for answering these questions.**  You are free to solve this task in any way you want; picking a suitable format (table vs. plot; which plot type; etc.) for showing your analysis is part of your task."
   ]
  },
  {
   "cell_type": "code",
   "execution_count": 16,
   "id": "f72db3dd",
   "metadata": {},
   "outputs": [],
   "source": [
    "# YOUR CODE HERE"
   ]
  }
 ],
 "metadata": {
  "kernelspec": {
   "display_name": "python3-dsp",
   "language": "python",
   "name": "python3-dsp"
  },
  "language_info": {
   "codemirror_mode": {
    "name": "ipython",
    "version": 3
   },
   "file_extension": ".py",
   "mimetype": "text/x-python",
   "name": "python",
   "nbconvert_exporter": "python",
   "pygments_lexer": "ipython3",
   "version": "3.9.10"
  }
 },
 "nbformat": 4,
 "nbformat_minor": 5
}
