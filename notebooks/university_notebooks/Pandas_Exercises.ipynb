{
 "cells": [
  {
   "cell_type": "code",
   "execution_count": 9,
   "metadata": {
    "colab": {
     "base_uri": "https://localhost:8080/",
     "height": 782
    },
    "id": "rNs4jblr8wIW",
    "outputId": "a03f5dcd-42b1-4fb7-ecec-84c67381d680"
   },
   "outputs": [
    {
     "data": {
      "text/html": [
       "<div>\n",
       "<style scoped>\n",
       "    .dataframe tbody tr th:only-of-type {\n",
       "        vertical-align: middle;\n",
       "    }\n",
       "\n",
       "    .dataframe tbody tr th {\n",
       "        vertical-align: top;\n",
       "    }\n",
       "\n",
       "    .dataframe thead th {\n",
       "        text-align: right;\n",
       "    }\n",
       "</style>\n",
       "<table border=\"1\" class=\"dataframe\">\n",
       "  <thead>\n",
       "    <tr style=\"text-align: right;\">\n",
       "      <th></th>\n",
       "      <th>Area Code</th>\n",
       "      <th>Ddate</th>\n",
       "      <th>Market</th>\n",
       "      <th>Market Size</th>\n",
       "      <th>Product</th>\n",
       "      <th>Product Type</th>\n",
       "      <th>State</th>\n",
       "      <th>Type</th>\n",
       "      <th>Budget Cogs</th>\n",
       "      <th>Budget Margin</th>\n",
       "      <th>...</th>\n",
       "      <th>Budget Sales</th>\n",
       "      <th>Coffee Sales</th>\n",
       "      <th>Cogs</th>\n",
       "      <th>Inventory</th>\n",
       "      <th>Margin</th>\n",
       "      <th>Marketing</th>\n",
       "      <th>Number of Records</th>\n",
       "      <th>Number Of Records</th>\n",
       "      <th>Profit</th>\n",
       "      <th>Total Expenses</th>\n",
       "    </tr>\n",
       "  </thead>\n",
       "  <tbody>\n",
       "    <tr>\n",
       "      <th>0</th>\n",
       "      <td>970</td>\n",
       "      <td>2012-01-01</td>\n",
       "      <td>Central</td>\n",
       "      <td>Major Market</td>\n",
       "      <td>Decaf Irish Cream</td>\n",
       "      <td>Coffee</td>\n",
       "      <td>Colorado</td>\n",
       "      <td>Decaf</td>\n",
       "      <td>100</td>\n",
       "      <td>140</td>\n",
       "      <td>...</td>\n",
       "      <td>240</td>\n",
       "      <td>234</td>\n",
       "      <td>95</td>\n",
       "      <td>821</td>\n",
       "      <td>139</td>\n",
       "      <td>26</td>\n",
       "      <td>1</td>\n",
       "      <td>1</td>\n",
       "      <td>101</td>\n",
       "      <td>38</td>\n",
       "    </tr>\n",
       "    <tr>\n",
       "      <th>1</th>\n",
       "      <td>719</td>\n",
       "      <td>2012-02-01</td>\n",
       "      <td>Central</td>\n",
       "      <td>Major Market</td>\n",
       "      <td>Decaf Irish Cream</td>\n",
       "      <td>Coffee</td>\n",
       "      <td>Colorado</td>\n",
       "      <td>Decaf</td>\n",
       "      <td>100</td>\n",
       "      <td>140</td>\n",
       "      <td>...</td>\n",
       "      <td>240</td>\n",
       "      <td>232</td>\n",
       "      <td>95</td>\n",
       "      <td>809</td>\n",
       "      <td>137</td>\n",
       "      <td>26</td>\n",
       "      <td>1</td>\n",
       "      <td>1</td>\n",
       "      <td>99</td>\n",
       "      <td>38</td>\n",
       "    </tr>\n",
       "    <tr>\n",
       "      <th>2</th>\n",
       "      <td>720</td>\n",
       "      <td>2012-03-01</td>\n",
       "      <td>Central</td>\n",
       "      <td>Major Market</td>\n",
       "      <td>Decaf Irish Cream</td>\n",
       "      <td>Coffee</td>\n",
       "      <td>Colorado</td>\n",
       "      <td>Decaf</td>\n",
       "      <td>100</td>\n",
       "      <td>140</td>\n",
       "      <td>...</td>\n",
       "      <td>240</td>\n",
       "      <td>234</td>\n",
       "      <td>95</td>\n",
       "      <td>799</td>\n",
       "      <td>139</td>\n",
       "      <td>26</td>\n",
       "      <td>1</td>\n",
       "      <td>1</td>\n",
       "      <td>101</td>\n",
       "      <td>38</td>\n",
       "    </tr>\n",
       "    <tr>\n",
       "      <th>3</th>\n",
       "      <td>303</td>\n",
       "      <td>2012-04-01</td>\n",
       "      <td>Central</td>\n",
       "      <td>Major Market</td>\n",
       "      <td>Decaf Irish Cream</td>\n",
       "      <td>Coffee</td>\n",
       "      <td>Colorado</td>\n",
       "      <td>Decaf</td>\n",
       "      <td>100</td>\n",
       "      <td>150</td>\n",
       "      <td>...</td>\n",
       "      <td>250</td>\n",
       "      <td>245</td>\n",
       "      <td>100</td>\n",
       "      <td>822</td>\n",
       "      <td>145</td>\n",
       "      <td>28</td>\n",
       "      <td>1</td>\n",
       "      <td>1</td>\n",
       "      <td>105</td>\n",
       "      <td>40</td>\n",
       "    </tr>\n",
       "    <tr>\n",
       "      <th>4</th>\n",
       "      <td>720</td>\n",
       "      <td>2012-05-01</td>\n",
       "      <td>Central</td>\n",
       "      <td>Major Market</td>\n",
       "      <td>Decaf Irish Cream</td>\n",
       "      <td>Coffee</td>\n",
       "      <td>Colorado</td>\n",
       "      <td>Decaf</td>\n",
       "      <td>110</td>\n",
       "      <td>150</td>\n",
       "      <td>...</td>\n",
       "      <td>260</td>\n",
       "      <td>256</td>\n",
       "      <td>104</td>\n",
       "      <td>871</td>\n",
       "      <td>152</td>\n",
       "      <td>29</td>\n",
       "      <td>1</td>\n",
       "      <td>1</td>\n",
       "      <td>112</td>\n",
       "      <td>40</td>\n",
       "    </tr>\n",
       "    <tr>\n",
       "      <th>...</th>\n",
       "      <td>...</td>\n",
       "      <td>...</td>\n",
       "      <td>...</td>\n",
       "      <td>...</td>\n",
       "      <td>...</td>\n",
       "      <td>...</td>\n",
       "      <td>...</td>\n",
       "      <td>...</td>\n",
       "      <td>...</td>\n",
       "      <td>...</td>\n",
       "      <td>...</td>\n",
       "      <td>...</td>\n",
       "      <td>...</td>\n",
       "      <td>...</td>\n",
       "      <td>...</td>\n",
       "      <td>...</td>\n",
       "      <td>...</td>\n",
       "      <td>...</td>\n",
       "      <td>...</td>\n",
       "      <td>...</td>\n",
       "      <td>...</td>\n",
       "    </tr>\n",
       "    <tr>\n",
       "      <th>4243</th>\n",
       "      <td>253</td>\n",
       "      <td>2013-08-01</td>\n",
       "      <td>West</td>\n",
       "      <td>Small Market</td>\n",
       "      <td>Green Tea</td>\n",
       "      <td>Tea</td>\n",
       "      <td>Washington</td>\n",
       "      <td>Regular</td>\n",
       "      <td>20</td>\n",
       "      <td>50</td>\n",
       "      <td>...</td>\n",
       "      <td>70</td>\n",
       "      <td>104</td>\n",
       "      <td>44</td>\n",
       "      <td>617</td>\n",
       "      <td>61</td>\n",
       "      <td>39</td>\n",
       "      <td>1</td>\n",
       "      <td>1</td>\n",
       "      <td>-11</td>\n",
       "      <td>64</td>\n",
       "    </tr>\n",
       "    <tr>\n",
       "      <th>4244</th>\n",
       "      <td>206</td>\n",
       "      <td>2013-09-01</td>\n",
       "      <td>West</td>\n",
       "      <td>Small Market</td>\n",
       "      <td>Green Tea</td>\n",
       "      <td>Tea</td>\n",
       "      <td>Washington</td>\n",
       "      <td>Regular</td>\n",
       "      <td>40</td>\n",
       "      <td>60</td>\n",
       "      <td>...</td>\n",
       "      <td>100</td>\n",
       "      <td>159</td>\n",
       "      <td>62</td>\n",
       "      <td>612</td>\n",
       "      <td>87</td>\n",
       "      <td>56</td>\n",
       "      <td>1</td>\n",
       "      <td>1</td>\n",
       "      <td>3</td>\n",
       "      <td>85</td>\n",
       "    </tr>\n",
       "    <tr>\n",
       "      <th>4245</th>\n",
       "      <td>206</td>\n",
       "      <td>2013-10-01</td>\n",
       "      <td>West</td>\n",
       "      <td>Small Market</td>\n",
       "      <td>Green Tea</td>\n",
       "      <td>Tea</td>\n",
       "      <td>Washington</td>\n",
       "      <td>Regular</td>\n",
       "      <td>20</td>\n",
       "      <td>40</td>\n",
       "      <td>...</td>\n",
       "      <td>60</td>\n",
       "      <td>153</td>\n",
       "      <td>60</td>\n",
       "      <td>606</td>\n",
       "      <td>84</td>\n",
       "      <td>54</td>\n",
       "      <td>1</td>\n",
       "      <td>1</td>\n",
       "      <td>0</td>\n",
       "      <td>84</td>\n",
       "    </tr>\n",
       "    <tr>\n",
       "      <th>4246</th>\n",
       "      <td>509</td>\n",
       "      <td>2013-11-01</td>\n",
       "      <td>West</td>\n",
       "      <td>Small Market</td>\n",
       "      <td>Green Tea</td>\n",
       "      <td>Tea</td>\n",
       "      <td>Washington</td>\n",
       "      <td>Regular</td>\n",
       "      <td>40</td>\n",
       "      <td>60</td>\n",
       "      <td>...</td>\n",
       "      <td>100</td>\n",
       "      <td>157</td>\n",
       "      <td>61</td>\n",
       "      <td>613</td>\n",
       "      <td>86</td>\n",
       "      <td>55</td>\n",
       "      <td>1</td>\n",
       "      <td>1</td>\n",
       "      <td>1</td>\n",
       "      <td>85</td>\n",
       "    </tr>\n",
       "    <tr>\n",
       "      <th>4247</th>\n",
       "      <td>509</td>\n",
       "      <td>2013-12-01</td>\n",
       "      <td>West</td>\n",
       "      <td>Small Market</td>\n",
       "      <td>Green Tea</td>\n",
       "      <td>Tea</td>\n",
       "      <td>Washington</td>\n",
       "      <td>Regular</td>\n",
       "      <td>40</td>\n",
       "      <td>50</td>\n",
       "      <td>...</td>\n",
       "      <td>90</td>\n",
       "      <td>140</td>\n",
       "      <td>55</td>\n",
       "      <td>627</td>\n",
       "      <td>76</td>\n",
       "      <td>49</td>\n",
       "      <td>1</td>\n",
       "      <td>1</td>\n",
       "      <td>-4</td>\n",
       "      <td>79</td>\n",
       "    </tr>\n",
       "  </tbody>\n",
       "</table>\n",
       "<p>4248 rows × 21 columns</p>\n",
       "</div>"
      ],
      "text/plain": [
       "      Area Code      Ddate   Market   Market Size            Product  \\\n",
       "0           970 2012-01-01  Central  Major Market  Decaf Irish Cream   \n",
       "1           719 2012-02-01  Central  Major Market  Decaf Irish Cream   \n",
       "2           720 2012-03-01  Central  Major Market  Decaf Irish Cream   \n",
       "3           303 2012-04-01  Central  Major Market  Decaf Irish Cream   \n",
       "4           720 2012-05-01  Central  Major Market  Decaf Irish Cream   \n",
       "...         ...        ...      ...           ...                ...   \n",
       "4243        253 2013-08-01     West  Small Market          Green Tea   \n",
       "4244        206 2013-09-01     West  Small Market          Green Tea   \n",
       "4245        206 2013-10-01     West  Small Market          Green Tea   \n",
       "4246        509 2013-11-01     West  Small Market          Green Tea   \n",
       "4247        509 2013-12-01     West  Small Market          Green Tea   \n",
       "\n",
       "     Product Type       State     Type  Budget Cogs  Budget Margin  ...  \\\n",
       "0          Coffee    Colorado    Decaf          100            140  ...   \n",
       "1          Coffee    Colorado    Decaf          100            140  ...   \n",
       "2          Coffee    Colorado    Decaf          100            140  ...   \n",
       "3          Coffee    Colorado    Decaf          100            150  ...   \n",
       "4          Coffee    Colorado    Decaf          110            150  ...   \n",
       "...           ...         ...      ...          ...            ...  ...   \n",
       "4243          Tea  Washington  Regular           20             50  ...   \n",
       "4244          Tea  Washington  Regular           40             60  ...   \n",
       "4245          Tea  Washington  Regular           20             40  ...   \n",
       "4246          Tea  Washington  Regular           40             60  ...   \n",
       "4247          Tea  Washington  Regular           40             50  ...   \n",
       "\n",
       "      Budget Sales Coffee Sales  Cogs  Inventory Margin  Marketing  \\\n",
       "0              240          234    95        821    139         26   \n",
       "1              240          232    95        809    137         26   \n",
       "2              240          234    95        799    139         26   \n",
       "3              250          245   100        822    145         28   \n",
       "4              260          256   104        871    152         29   \n",
       "...            ...          ...   ...        ...    ...        ...   \n",
       "4243            70          104    44        617     61         39   \n",
       "4244           100          159    62        612     87         56   \n",
       "4245            60          153    60        606     84         54   \n",
       "4246           100          157    61        613     86         55   \n",
       "4247            90          140    55        627     76         49   \n",
       "\n",
       "      Number of Records  Number Of Records  Profit  Total Expenses  \n",
       "0                     1                  1     101              38  \n",
       "1                     1                  1      99              38  \n",
       "2                     1                  1     101              38  \n",
       "3                     1                  1     105              40  \n",
       "4                     1                  1     112              40  \n",
       "...                 ...                ...     ...             ...  \n",
       "4243                  1                  1     -11              64  \n",
       "4244                  1                  1       3              85  \n",
       "4245                  1                  1       0              84  \n",
       "4246                  1                  1       1              85  \n",
       "4247                  1                  1      -4              79  \n",
       "\n",
       "[4248 rows x 21 columns]"
      ]
     },
     "execution_count": 9,
     "metadata": {},
     "output_type": "execute_result"
    }
   ],
   "source": [
    "import pandas as pd\n",
    "\n",
    "data = \"../../data/Coffee Chain.csv\"\n",
    "from datetime import datetime\n",
    "dateparse = lambda x: datetime.strptime(x, '%d/%-m/%Y')\n",
    "\n",
    "df = pd.read_csv(data)\n",
    "df[\"Ddate\"] = df[\"Ddate\"].transform(pd.to_datetime)\n",
    "df"
   ]
  },
  {
   "cell_type": "markdown",
   "metadata": {
    "id": "5la9k56S-r8L"
   },
   "source": [
    "### Does the dataset have any missing values? Write an expression to obtain a single boolean value \n",
    "(i.e.,True or False) that signifies whether the DataFrame has any missing values or not.\n"
   ]
  },
  {
   "cell_type": "code",
   "execution_count": 18,
   "metadata": {
    "colab": {
     "base_uri": "https://localhost:8080/",
     "height": 346
    },
    "id": "9LZ-vuj7-tfM",
    "outputId": "b005f716-0957-4061-c48d-18f6bfab4847"
   },
   "outputs": [
    {
     "data": {
      "text/plain": [
       "Area Code            0\n",
       "Ddate                0\n",
       "Market               0\n",
       "Market Size          0\n",
       "Product              0\n",
       "Product Type         0\n",
       "State                0\n",
       "Type                 0\n",
       "Budget Cogs          0\n",
       "Budget Margin        0\n",
       "Budget Profit        0\n",
       "Budget Sales         0\n",
       "Coffee Sales         0\n",
       "Cogs                 0\n",
       "Inventory            0\n",
       "Margin               0\n",
       "Marketing            0\n",
       "Number of Records    0\n",
       "Number Of Records    0\n",
       "Profit               0\n",
       "Total Expenses       0\n",
       "dtype: int64"
      ]
     },
     "execution_count": 18,
     "metadata": {},
     "output_type": "execute_result"
    }
   ],
   "source": [
    "import numpy as np\n",
    "\n",
    "df.isnull().sum()"
   ]
  },
  {
   "cell_type": "markdown",
   "metadata": {},
   "source": [
    "2. What different product types are there in the dataset? Produce a list of all unique product types in the\n",
    "dataset, i.e., unique values in the \"Product Type\" column."
   ]
  },
  {
   "cell_type": "code",
   "execution_count": null,
   "metadata": {
    "colab": {
     "base_uri": "https://localhost:8080/"
    },
    "id": "9bcgZwtNBCmr",
    "outputId": "aeff1c3d-9601-466e-e361-4ac6359146d6"
   },
   "outputs": [
    {
     "data": {
      "text/plain": [
       "array(['Coffee', 'Espresso', 'Herbal Tea', 'Tea'], dtype=object)"
      ]
     },
     "execution_count": 19,
     "metadata": {},
     "output_type": "execute_result"
    }
   ],
   "source": [
    "df['Product Type'].unique()"
   ]
  },
  {
   "cell_type": "markdown",
   "metadata": {},
   "source": [
    "3. What different \"coffee\" products are there in the dataset? Produce a list of all unique coffee products in\n",
    "the dataset, i.e., values in the \"Product\" column where the \"Product Type\" is \"Coffee\".\n"
   ]
  },
  {
   "cell_type": "code",
   "execution_count": 20,
   "metadata": {
    "colab": {
     "base_uri": "https://localhost:8080/"
    },
    "id": "g4StzDMPBHyC",
    "outputId": "374d1c8b-82e8-478b-a684-42e229400c93"
   },
   "outputs": [
    {
     "data": {
      "text/plain": [
       "Product Type\n",
       "Coffee                 [Decaf Irish Cream, Amaretto, Colombian]\n",
       "Espresso      [Decaf Espresso, Caffe Mocha, Regular Espresso...\n",
       "Herbal Tea                             [Chamomile, Lemon, Mint]\n",
       "Tea                          [Darjeeling, Earl Grey, Green Tea]\n",
       "Name: Product, dtype: object"
      ]
     },
     "execution_count": 20,
     "metadata": {},
     "output_type": "execute_result"
    }
   ],
   "source": [
    "df.groupby(\"Product Type\")[\"Product\"].unique()\n"
   ]
  },
  {
   "cell_type": "markdown",
   "metadata": {},
   "source": [
    "4. What different \"coffee or espresso\" products are there in the dataset? Do the same as above, but this\n",
    "time include all products where the \"Product Type\" is either \"Coffee\" or \"Espresso\". Try to figure out how to do"
   ]
  },
  {
   "cell_type": "code",
   "execution_count": 48,
   "metadata": {
    "colab": {
     "base_uri": "https://localhost:8080/"
    },
    "id": "_5nes_NDBPpQ",
    "outputId": "d6796d6a-5538-4196-f102-917fd944fcd9"
   },
   "outputs": [
    {
     "data": {
      "text/plain": [
       "0       []\n",
       "1       []\n",
       "2       []\n",
       "3       []\n",
       "4       []\n",
       "        ..\n",
       "4243    []\n",
       "4244    []\n",
       "4245    []\n",
       "4246    []\n",
       "4247    []\n",
       "Name: Type, Length: 4248, dtype: object"
      ]
     },
     "execution_count": 48,
     "metadata": {},
     "output_type": "execute_result"
    }
   ],
   "source": [
    "keyword_list = ['Coffee','Espresso'] \n",
    "df['Type']=df.Product.str.findall('|'.join(keyword_list))\n",
    "#s = df.groupby('Product Type')['Type'].apply(lambda x: pd.Series.mode(x.sum())[0]).reset_index()\n",
    "df['Type']"
   ]
  },
  {
   "cell_type": "code",
   "execution_count": 30,
   "metadata": {},
   "outputs": [
    {
     "data": {
      "text/plain": [
       "array(['Decaf Irish Cream', 'Decaf Espresso', 'Amaretto', 'Colombian',\n",
       "       'Caffe Mocha', 'Regular Espresso', 'Caffe Latte'], dtype=object)"
      ]
     },
     "execution_count": 30,
     "metadata": {},
     "output_type": "execute_result"
    }
   ],
   "source": [
    "keyword_list = ['Coffee','Espresso'] \n",
    "df.loc[df.loc[:,\"Product Type\"].isin(keyword_list)].loc[:,\"Product\"].unique()"
   ]
  },
  {
   "cell_type": "markdown",
   "metadata": {},
   "source": [
    "5. Which product type generates the most/the least profit, on average? Find out the average \"Profit\"\n",
    "values by \"Product Type\".\n"
   ]
  },
  {
   "cell_type": "code",
   "execution_count": 48,
   "metadata": {},
   "outputs": [
    {
     "name": "stdout",
     "output_type": "stream",
     "text": [
      "1.19 ms ± 0 ns per loop (mean ± std. dev. of 1 run, 1 loop each)\n"
     ]
    }
   ],
   "source": [
    "%%timeit -r 1 -n 1\n",
    "df.groupby(\"Product Type\")[\"Profit\"].mean()\n"
   ]
  },
  {
   "cell_type": "code",
   "execution_count": 43,
   "metadata": {},
   "outputs": [
    {
     "name": "stdout",
     "output_type": "stream",
     "text": [
      "1.31 ms ± 10.3 µs per loop (mean ± std. dev. of 7 runs, 1000 loops each)\n"
     ]
    }
   ],
   "source": [
    "%%timeit\n",
    "df.groupby(\"Product Type\").mean().Profit"
   ]
  }
 ],
 "metadata": {
  "colab": {
   "name": "Pandas_Exercises.ipynb",
   "provenance": []
  },
  "kernelspec": {
   "display_name": "Python 3",
   "language": "python",
   "name": "python3"
  },
  "language_info": {
   "codemirror_mode": {
    "name": "ipython",
    "version": 3
   },
   "file_extension": ".py",
   "mimetype": "text/x-python",
   "name": "python",
   "nbconvert_exporter": "python",
   "pygments_lexer": "ipython3",
   "version": "3.8.8"
  }
 },
 "nbformat": 4,
 "nbformat_minor": 4
}
