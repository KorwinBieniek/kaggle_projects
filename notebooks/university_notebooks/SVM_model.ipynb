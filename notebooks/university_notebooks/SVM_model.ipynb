{
 "cells": [
  {
   "cell_type": "markdown",
   "id": "bda354b2",
   "metadata": {},
   "source": [
    "# Imports"
   ]
  },
  {
   "cell_type": "code",
   "execution_count": 172,
   "id": "bf9e757f",
   "metadata": {},
   "outputs": [],
   "source": [
    "import pandas as pd\n",
    "from sklearn.linear_model import LogisticRegression\n",
    "from sklearn.metrics import confusion_matrix, plot_roc_curve, ConfusionMatrixDisplay, roc_curve, auc, RocCurveDisplay\n",
    "from sklearn.svm import SVC\n",
    "from sklearn.model_selection import cross_validate\n",
    "from sklearn.preprocessing import StandardScaler\n",
    "from sklearn.inspection import permutation_importance\n",
    "import seaborn as sns\n",
    "import matplotlib.pyplot as plt\n",
    "import numpy as np\n",
    "\n",
    "plt.style.use(\"dark_background\")"
   ]
  },
  {
   "cell_type": "code",
   "execution_count": 154,
   "id": "17d9ecfb",
   "metadata": {},
   "outputs": [],
   "source": [
    "defaults = pd.read_csv(\"../../data/SVM_exercises/defaults.csv\", sep = \";\")\n",
    "defaults_valid = pd.read_csv(\"../../data/SVM_exercises/defaults_valid.csv\", sep = \";\")"
   ]
  },
  {
   "cell_type": "code",
   "execution_count": 159,
   "id": "71487597",
   "metadata": {},
   "outputs": [
    {
     "data": {
      "text/html": [
       "<div>\n",
       "<style scoped>\n",
       "    .dataframe tbody tr th:only-of-type {\n",
       "        vertical-align: middle;\n",
       "    }\n",
       "\n",
       "    .dataframe tbody tr th {\n",
       "        vertical-align: top;\n",
       "    }\n",
       "\n",
       "    .dataframe thead th {\n",
       "        text-align: right;\n",
       "    }\n",
       "</style>\n",
       "<table border=\"1\" class=\"dataframe\">\n",
       "  <thead>\n",
       "    <tr style=\"text-align: right;\">\n",
       "      <th></th>\n",
       "      <th>0</th>\n",
       "      <th>1</th>\n",
       "    </tr>\n",
       "  </thead>\n",
       "  <tbody>\n",
       "    <tr>\n",
       "      <th>default payment next month</th>\n",
       "      <td>77.820636</td>\n",
       "      <td>22.179364</td>\n",
       "    </tr>\n",
       "  </tbody>\n",
       "</table>\n",
       "</div>"
      ],
      "text/plain": [
       "                                    0          1\n",
       "default payment next month  77.820636  22.179364"
      ]
     },
     "execution_count": 159,
     "metadata": {},
     "output_type": "execute_result"
    }
   ],
   "source": [
    "(defaults[\"default payment next month\"].value_counts()*100/len(defaults)).to_frame().T"
   ]
  },
  {
   "cell_type": "markdown",
   "id": "ea349bbb",
   "metadata": {},
   "source": [
    "**Czy zbiór jest zbalansowany?**\n",
    "\n",
    "Zbiór jest lekko niezbalansowany - 22% jedynek w klasie decyzyjnej (default payment next month)"
   ]
  },
  {
   "cell_type": "markdown",
   "id": "dced218b",
   "metadata": {},
   "source": [
    "**Czy do oceny jakości klasyfikacji modelu korzystniejsza jest w tym przypadku F miara czy “balanced accuracy”?**\n",
    "\n",
    "F Score vs Balanced Accuracy - przez to, że korzystam z niezbalansowanych danych to do oceny jakości klasyfikacji modeu korzystniejsze jest balanced accuracy. Balanced Accuracy to średnia ze Specifity i Recall. Obydwie te metryki są niewrażliwe na niezbalansowanie zbioru uczącego."
   ]
  },
  {
   "cell_type": "markdown",
   "id": "d4f62134",
   "metadata": {},
   "source": [
    "# Data Preprocessing"
   ]
  },
  {
   "cell_type": "code",
   "execution_count": 160,
   "id": "3228608e",
   "metadata": {},
   "outputs": [],
   "source": [
    "y = defaults.pop(\"default payment next month\")\n",
    "X = defaults.copy()\n",
    "y_valid = defaults_valid.pop(\"default payment next month\")\n",
    "X_valid = defaults_valid.copy()\n",
    "\n",
    "scaler = StandardScaler().fit(X)\n",
    "columns = X.columns\n",
    "X = pd.DataFrame(scaler.transform(X), columns=columns)\n",
    "X_valid = pd.DataFrame(scaler.transform(X_valid), columns=columns)"
   ]
  },
  {
   "cell_type": "markdown",
   "id": "cfa04636",
   "metadata": {},
   "source": [
    "### Dlaczego używam Standard Scalera?\n",
    "\n",
    "SVM stara się zmaksymalizować odległość między płaszczyzną separacji a wektorami wsparcia. Jeśli jedna cecha (tzn. jeden wymiar w tej przestrzeni) ma bardzo duże wartości, zdominuje ona pozostałe cechy przy obliczaniu odległości. Jeśli zestandaryzujemy wszystkie cechy (np. do średniej 0 i odchylenia 1), to wszystkie one będą miały taki sam wpływ na metrykę odległości."
   ]
  },
  {
   "cell_type": "markdown",
   "id": "3291540c",
   "metadata": {},
   "source": [
    "# Cross Validation"
   ]
  },
  {
   "cell_type": "code",
   "execution_count": 161,
   "id": "2404e7bf",
   "metadata": {},
   "outputs": [
    {
     "data": {
      "text/html": [
       "<div>\n",
       "<style scoped>\n",
       "    .dataframe tbody tr th:only-of-type {\n",
       "        vertical-align: middle;\n",
       "    }\n",
       "\n",
       "    .dataframe tbody tr th {\n",
       "        vertical-align: top;\n",
       "    }\n",
       "\n",
       "    .dataframe thead th {\n",
       "        text-align: right;\n",
       "    }\n",
       "</style>\n",
       "<table border=\"1\" class=\"dataframe\">\n",
       "  <thead>\n",
       "    <tr style=\"text-align: right;\">\n",
       "      <th></th>\n",
       "      <th>fit_time</th>\n",
       "      <th>score_time</th>\n",
       "      <th>test_roc_auc</th>\n",
       "      <th>train_roc_auc</th>\n",
       "      <th>test_balanced_accuracy</th>\n",
       "      <th>train_balanced_accuracy</th>\n",
       "    </tr>\n",
       "  </thead>\n",
       "  <tbody>\n",
       "    <tr>\n",
       "      <th>0</th>\n",
       "      <td>12.12598</td>\n",
       "      <td>15.153625</td>\n",
       "      <td>0.716819</td>\n",
       "      <td>0.800779</td>\n",
       "      <td>0.642024</td>\n",
       "      <td>0.657646</td>\n",
       "    </tr>\n",
       "  </tbody>\n",
       "</table>\n",
       "</div>"
      ],
      "text/plain": [
       "   fit_time  score_time  test_roc_auc  train_roc_auc  test_balanced_accuracy  \\\n",
       "0  12.12598   15.153625      0.716819       0.800779                0.642024   \n",
       "\n",
       "   train_balanced_accuracy  \n",
       "0                 0.657646  "
      ]
     },
     "execution_count": 161,
     "metadata": {},
     "output_type": "execute_result"
    }
   ],
   "source": [
    "model = SVC()\n",
    "cv_results = cross_validate(estimator=model, X=X, y=y,\n",
    "    scoring=[\"roc_auc\", \"balanced_accuracy\"], cv=3, \n",
    "    return_train_score=True\n",
    ")\n",
    "cv_results = pd.DataFrame(cv_results)\n",
    "cv_results.mean().to_frame().T"
   ]
  },
  {
   "cell_type": "markdown",
   "id": "1af8efdd",
   "metadata": {},
   "source": [
    "# Confusion Matrix on validation set"
   ]
  },
  {
   "cell_type": "code",
   "execution_count": 162,
   "id": "f2e55f5a",
   "metadata": {},
   "outputs": [
    {
     "data": {
      "image/png": "[encoded data removed]",
      "text/plain": [
       "<Figure size 432x288 with 2 Axes>"
      ]
     },
     "metadata": {},
     "output_type": "display_data"
    }
   ],
   "source": [
    "model.fit(X, y)\n",
    "y_valid_pred = model.predict(X_valid)\n",
    "cm = confusion_matrix(y_valid, y_valid_pred)\n",
    "disp = ConfusionMatrixDisplay(confusion_matrix=cm)\n",
    "disp.plot() \n",
    "plt.show()"
   ]
  },
  {
   "cell_type": "markdown",
   "id": "ce15153b",
   "metadata": {
    "tags": []
   },
   "source": [
    "# Permutation Importance"
   ]
  },
  {
   "cell_type": "code",
   "execution_count": 163,
   "id": "8675a472",
   "metadata": {},
   "outputs": [
    {
     "data": {
      "image/png": "[encoded data removed]",
      "text/plain": [
       "<Figure size 432x576 with 1 Axes>"
      ]
     },
     "metadata": {},
     "output_type": "display_data"
    }
   ],
   "source": [
    "result = permutation_importance(model, X_valid, y_valid, scoring='roc_auc', n_repeats=3, random_state=42)\n",
    "pi_results_df = pd.DataFrame(result['importances'])\n",
    "pi_results_df.index=X.columns\n",
    "pi_results_df = pi_results_df.stack().reset_index()\n",
    "pi_results_df.columns = ['feature', 'level', 'roc_auc_drop']\n",
    "pi_results_df.drop(columns=['level'], inplace=True)\n",
    "\n",
    "fig, ax = plt.subplots(figsize=(6, 8))\n",
    "order = pi_results_df.groupby(\"feature\").mean().reset_index().sort_values('roc_auc_drop', ascending=False).feature\n",
    "ax = sns.barplot(x=\"roc_auc_drop\", y=\"feature\", data=pi_results_df, estimator=np.mean, ci=85, capsize=.2, color='lightblue', orient='h', order=order)\n",
    "fig.tight_layout()\n",
    "plt.show()"
   ]
  },
  {
   "cell_type": "markdown",
   "id": "743c3543",
   "metadata": {},
   "source": [
    "# Dropping Not Important Features"
   ]
  },
  {
   "cell_type": "code",
   "execution_count": 199,
   "id": "09aa82bf",
   "metadata": {},
   "outputs": [
    {
     "data": {
      "text/plain": [
       "array(['PAY_AMT6', 'BILL_AMT3', 'PAY_AMT5', 'PAY_AMT3', 'SEX', 'ID',\n",
       "       'BILL_AMT6', 'EDUCATION', 'MARRIAGE', 'AGE'], dtype=object)"
      ]
     },
     "execution_count": 199,
     "metadata": {},
     "output_type": "execute_result"
    }
   ],
   "source": [
    "columns_to_drop = pi_results_df.groupby(\"feature\").mean().reset_index().sort_values('roc_auc_drop', ascending=False).tail(10).feature.values\n",
    "columns_to_drop"
   ]
  },
  {
   "cell_type": "markdown",
   "id": "3d423dd2",
   "metadata": {},
   "source": [
    "## Validation ROC AUC all features"
   ]
  },
  {
   "cell_type": "code",
   "execution_count": 191,
   "id": "6b7c04bd",
   "metadata": {},
   "outputs": [
    {
     "name": "stderr",
     "output_type": "stream",
     "text": [
      "C:\\Users\\Mateusz\\miniconda3\\lib\\site-packages\\sklearn\\utils\\deprecation.py:87: FutureWarning: Function plot_roc_curve is deprecated; Function :func:`plot_roc_curve` is deprecated in 1.0 and will be removed in 1.2. Use one of the class methods: :meth:`sklearn.metric.RocCurveDisplay.from_predictions` or :meth:`sklearn.metric.RocCurveDisplay.from_estimator`.\n",
      "  warnings.warn(msg, category=FutureWarning)\n"
     ]
    },
    {
     "data": {
      "image/png": "[encoded data removed]",
      "text/plain": [
       "<Figure size 432x288 with 1 Axes>"
      ]
     },
     "metadata": {},
     "output_type": "display_data"
    }
   ],
   "source": [
    "model = SVC()\n",
    "model.fit(X, y)\n",
    "plot_roc_curve(model, X_valid, y_valid);"
   ]
  },
  {
   "cell_type": "markdown",
   "id": "0ea3a4d6",
   "metadata": {},
   "source": [
    "## Validation ROC AUC only important features"
   ]
  },
  {
   "cell_type": "code",
   "execution_count": null,
   "id": "61b213f0",
   "metadata": {},
   "outputs": [],
   "source": [
    "X_dropped = X.drop(columns=columns_to_drop)\n",
    "X_valid_dropped = X_valid.drop(columns=columns_to_drop)\n",
    "\n",
    "model = SVC()\n",
    "model.fit(X_dropped, y)\n",
    "plot_roc_curve(model, X_valid_dropped, y_valid);"
   ]
  },
  {
   "cell_type": "code",
   "execution_count": 198,
   "id": "57d166fc",
   "metadata": {},
   "outputs": [],
   "source": [
    "import winsound\n",
    "frequency = 2500  # Set Frequency To 2500 Hertz\n",
    "duration = 2000  # Set Duration To 1000 ms == 1 second\n",
    "winsound.Beep(frequency, duration)"
   ]
  },
  {
   "cell_type": "code",
   "execution_count": null,
   "id": "3abb77f0",
   "metadata": {},
   "outputs": [],
   "source": []
  }
 ],
 "metadata": {
  "kernelspec": {
   "display_name": "Python 3",
   "language": "python",
   "name": "python3"
  },
  "language_info": {
   "codemirror_mode": {
    "name": "ipython",
    "version": 3
   },
   "file_extension": ".py",
   "mimetype": "text/x-python",
   "name": "python",
   "nbconvert_exporter": "python",
   "pygments_lexer": "ipython3",
   "version": "3.8.8"
  }
 },
 "nbformat": 4,
 "nbformat_minor": 5
}
