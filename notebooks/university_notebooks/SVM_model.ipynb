{
 "cells": [
  {
   "cell_type": "code",
   "execution_count": 47,
   "id": "821da9f2-0ee9-4d59-92bb-49c7486e7bc7",
   "metadata": {},
   "outputs": [],
   "source": [
    "import pandas as pd\n",
    "from sklearn.linear_model import LogisticRegression\n",
    "from sklearn.metrics import confusion_matrix, plot_roc_curve\n",
    "from sklearn.svm import SVC\n",
    "from sklearn.model_selection import cross_validate\n",
    "from sklearn.preprocessing import StandardScaler\n",
    "from sklearn.inspection import permutation_importance\n",
    "import seaborn as sns\n",
    "import matplotlib.pyplot as plt\n",
    "import numpy as np"
   ]
  },
  {
   "cell_type": "code",
   "execution_count": 4,
   "id": "9ff7ea37-6c17-454c-8fb9-4c1175ce5f35",
   "metadata": {},
   "outputs": [
    {
     "data": {
      "text/html": [
       "<div>\n",
       "<style scoped>\n",
       "    .dataframe tbody tr th:only-of-type {\n",
       "        vertical-align: middle;\n",
       "    }\n",
       "\n",
       "    .dataframe tbody tr th {\n",
       "        vertical-align: top;\n",
       "    }\n",
       "\n",
       "    .dataframe thead th {\n",
       "        text-align: right;\n",
       "    }\n",
       "</style>\n",
       "<table border=\"1\" class=\"dataframe\">\n",
       "  <thead>\n",
       "    <tr style=\"text-align: right;\">\n",
       "      <th></th>\n",
       "      <th>ID</th>\n",
       "      <th>LIMIT_BAL</th>\n",
       "      <th>SEX</th>\n",
       "      <th>EDUCATION</th>\n",
       "      <th>MARRIAGE</th>\n",
       "      <th>AGE</th>\n",
       "      <th>PAY_0</th>\n",
       "      <th>PAY_2</th>\n",
       "      <th>PAY_3</th>\n",
       "      <th>PAY_4</th>\n",
       "      <th>...</th>\n",
       "      <th>BILL_AMT4</th>\n",
       "      <th>BILL_AMT5</th>\n",
       "      <th>BILL_AMT6</th>\n",
       "      <th>PAY_AMT1</th>\n",
       "      <th>PAY_AMT2</th>\n",
       "      <th>PAY_AMT3</th>\n",
       "      <th>PAY_AMT4</th>\n",
       "      <th>PAY_AMT5</th>\n",
       "      <th>PAY_AMT6</th>\n",
       "      <th>default payment next month</th>\n",
       "    </tr>\n",
       "  </thead>\n",
       "  <tbody>\n",
       "    <tr>\n",
       "      <th>count</th>\n",
       "      <td>27999.00000</td>\n",
       "      <td>27999.000000</td>\n",
       "      <td>27999.000000</td>\n",
       "      <td>27999.000000</td>\n",
       "      <td>27999.000000</td>\n",
       "      <td>27999.000000</td>\n",
       "      <td>27999.000000</td>\n",
       "      <td>27999.000000</td>\n",
       "      <td>27999.000000</td>\n",
       "      <td>27999.000000</td>\n",
       "      <td>...</td>\n",
       "      <td>27999.000000</td>\n",
       "      <td>27999.000000</td>\n",
       "      <td>27999.000000</td>\n",
       "      <td>27999.000000</td>\n",
       "      <td>2.799900e+04</td>\n",
       "      <td>27999.000000</td>\n",
       "      <td>27999.000000</td>\n",
       "      <td>27999.000000</td>\n",
       "      <td>27999.000000</td>\n",
       "      <td>27999.000000</td>\n",
       "    </tr>\n",
       "    <tr>\n",
       "      <th>mean</th>\n",
       "      <td>14000.00000</td>\n",
       "      <td>167099.170685</td>\n",
       "      <td>1.604557</td>\n",
       "      <td>1.845780</td>\n",
       "      <td>1.556484</td>\n",
       "      <td>35.380264</td>\n",
       "      <td>-0.010572</td>\n",
       "      <td>-0.130112</td>\n",
       "      <td>-0.163292</td>\n",
       "      <td>-0.217472</td>\n",
       "      <td>...</td>\n",
       "      <td>43222.489696</td>\n",
       "      <td>40387.979856</td>\n",
       "      <td>38903.331155</td>\n",
       "      <td>5579.850923</td>\n",
       "      <td>5.847387e+03</td>\n",
       "      <td>5131.236580</td>\n",
       "      <td>4813.350048</td>\n",
       "      <td>4755.416801</td>\n",
       "      <td>5184.075574</td>\n",
       "      <td>0.221794</td>\n",
       "    </tr>\n",
       "    <tr>\n",
       "      <th>std</th>\n",
       "      <td>8082.75943</td>\n",
       "      <td>129742.554832</td>\n",
       "      <td>0.488954</td>\n",
       "      <td>0.785705</td>\n",
       "      <td>0.521295</td>\n",
       "      <td>9.276226</td>\n",
       "      <td>1.122965</td>\n",
       "      <td>1.194718</td>\n",
       "      <td>1.195233</td>\n",
       "      <td>1.163331</td>\n",
       "      <td>...</td>\n",
       "      <td>64235.169551</td>\n",
       "      <td>60759.487603</td>\n",
       "      <td>59435.211063</td>\n",
       "      <td>15162.343572</td>\n",
       "      <td>2.105127e+04</td>\n",
       "      <td>16606.364862</td>\n",
       "      <td>15307.325671</td>\n",
       "      <td>14887.656280</td>\n",
       "      <td>17602.985657</td>\n",
       "      <td>0.415460</td>\n",
       "    </tr>\n",
       "    <tr>\n",
       "      <th>min</th>\n",
       "      <td>1.00000</td>\n",
       "      <td>10000.000000</td>\n",
       "      <td>1.000000</td>\n",
       "      <td>0.000000</td>\n",
       "      <td>0.000000</td>\n",
       "      <td>21.000000</td>\n",
       "      <td>-2.000000</td>\n",
       "      <td>-2.000000</td>\n",
       "      <td>-2.000000</td>\n",
       "      <td>-2.000000</td>\n",
       "      <td>...</td>\n",
       "      <td>-170000.000000</td>\n",
       "      <td>-81334.000000</td>\n",
       "      <td>-339603.000000</td>\n",
       "      <td>0.000000</td>\n",
       "      <td>0.000000e+00</td>\n",
       "      <td>0.000000</td>\n",
       "      <td>0.000000</td>\n",
       "      <td>0.000000</td>\n",
       "      <td>0.000000</td>\n",
       "      <td>0.000000</td>\n",
       "    </tr>\n",
       "    <tr>\n",
       "      <th>25%</th>\n",
       "      <td>7000.50000</td>\n",
       "      <td>50000.000000</td>\n",
       "      <td>1.000000</td>\n",
       "      <td>1.000000</td>\n",
       "      <td>1.000000</td>\n",
       "      <td>28.000000</td>\n",
       "      <td>-1.000000</td>\n",
       "      <td>-1.000000</td>\n",
       "      <td>-1.000000</td>\n",
       "      <td>-1.000000</td>\n",
       "      <td>...</td>\n",
       "      <td>2378.000000</td>\n",
       "      <td>1799.500000</td>\n",
       "      <td>1268.000000</td>\n",
       "      <td>1000.000000</td>\n",
       "      <td>8.395000e+02</td>\n",
       "      <td>390.000000</td>\n",
       "      <td>295.000000</td>\n",
       "      <td>264.000000</td>\n",
       "      <td>109.000000</td>\n",
       "      <td>0.000000</td>\n",
       "    </tr>\n",
       "    <tr>\n",
       "      <th>50%</th>\n",
       "      <td>14000.00000</td>\n",
       "      <td>140000.000000</td>\n",
       "      <td>2.000000</td>\n",
       "      <td>2.000000</td>\n",
       "      <td>2.000000</td>\n",
       "      <td>34.000000</td>\n",
       "      <td>0.000000</td>\n",
       "      <td>0.000000</td>\n",
       "      <td>0.000000</td>\n",
       "      <td>0.000000</td>\n",
       "      <td>...</td>\n",
       "      <td>19129.000000</td>\n",
       "      <td>18239.000000</td>\n",
       "      <td>17212.000000</td>\n",
       "      <td>2100.000000</td>\n",
       "      <td>2.008000e+03</td>\n",
       "      <td>1800.000000</td>\n",
       "      <td>1500.000000</td>\n",
       "      <td>1500.000000</td>\n",
       "      <td>1500.000000</td>\n",
       "      <td>0.000000</td>\n",
       "    </tr>\n",
       "    <tr>\n",
       "      <th>75%</th>\n",
       "      <td>20999.50000</td>\n",
       "      <td>240000.000000</td>\n",
       "      <td>2.000000</td>\n",
       "      <td>2.000000</td>\n",
       "      <td>2.000000</td>\n",
       "      <td>41.000000</td>\n",
       "      <td>0.000000</td>\n",
       "      <td>0.000000</td>\n",
       "      <td>0.000000</td>\n",
       "      <td>0.000000</td>\n",
       "      <td>...</td>\n",
       "      <td>54391.000000</td>\n",
       "      <td>50150.500000</td>\n",
       "      <td>49165.500000</td>\n",
       "      <td>5005.000000</td>\n",
       "      <td>5.000000e+03</td>\n",
       "      <td>4500.000000</td>\n",
       "      <td>4010.000000</td>\n",
       "      <td>4026.500000</td>\n",
       "      <td>4000.000000</td>\n",
       "      <td>0.000000</td>\n",
       "    </tr>\n",
       "    <tr>\n",
       "      <th>max</th>\n",
       "      <td>27999.00000</td>\n",
       "      <td>1000000.000000</td>\n",
       "      <td>2.000000</td>\n",
       "      <td>6.000000</td>\n",
       "      <td>3.000000</td>\n",
       "      <td>79.000000</td>\n",
       "      <td>8.000000</td>\n",
       "      <td>8.000000</td>\n",
       "      <td>8.000000</td>\n",
       "      <td>8.000000</td>\n",
       "      <td>...</td>\n",
       "      <td>891586.000000</td>\n",
       "      <td>927171.000000</td>\n",
       "      <td>961664.000000</td>\n",
       "      <td>505000.000000</td>\n",
       "      <td>1.684259e+06</td>\n",
       "      <td>896040.000000</td>\n",
       "      <td>528897.000000</td>\n",
       "      <td>417990.000000</td>\n",
       "      <td>528666.000000</td>\n",
       "      <td>1.000000</td>\n",
       "    </tr>\n",
       "  </tbody>\n",
       "</table>\n",
       "<p>8 rows × 25 columns</p>\n",
       "</div>"
      ],
      "text/plain": [
       "                ID       LIMIT_BAL           SEX     EDUCATION      MARRIAGE  \\\n",
       "count  27999.00000    27999.000000  27999.000000  27999.000000  27999.000000   \n",
       "mean   14000.00000   167099.170685      1.604557      1.845780      1.556484   \n",
       "std     8082.75943   129742.554832      0.488954      0.785705      0.521295   \n",
       "min        1.00000    10000.000000      1.000000      0.000000      0.000000   \n",
       "25%     7000.50000    50000.000000      1.000000      1.000000      1.000000   \n",
       "50%    14000.00000   140000.000000      2.000000      2.000000      2.000000   \n",
       "75%    20999.50000   240000.000000      2.000000      2.000000      2.000000   \n",
       "max    27999.00000  1000000.000000      2.000000      6.000000      3.000000   \n",
       "\n",
       "                AGE         PAY_0         PAY_2         PAY_3         PAY_4  \\\n",
       "count  27999.000000  27999.000000  27999.000000  27999.000000  27999.000000   \n",
       "mean      35.380264     -0.010572     -0.130112     -0.163292     -0.217472   \n",
       "std        9.276226      1.122965      1.194718      1.195233      1.163331   \n",
       "min       21.000000     -2.000000     -2.000000     -2.000000     -2.000000   \n",
       "25%       28.000000     -1.000000     -1.000000     -1.000000     -1.000000   \n",
       "50%       34.000000      0.000000      0.000000      0.000000      0.000000   \n",
       "75%       41.000000      0.000000      0.000000      0.000000      0.000000   \n",
       "max       79.000000      8.000000      8.000000      8.000000      8.000000   \n",
       "\n",
       "       ...      BILL_AMT4      BILL_AMT5      BILL_AMT6       PAY_AMT1  \\\n",
       "count  ...   27999.000000   27999.000000   27999.000000   27999.000000   \n",
       "mean   ...   43222.489696   40387.979856   38903.331155    5579.850923   \n",
       "std    ...   64235.169551   60759.487603   59435.211063   15162.343572   \n",
       "min    ... -170000.000000  -81334.000000 -339603.000000       0.000000   \n",
       "25%    ...    2378.000000    1799.500000    1268.000000    1000.000000   \n",
       "50%    ...   19129.000000   18239.000000   17212.000000    2100.000000   \n",
       "75%    ...   54391.000000   50150.500000   49165.500000    5005.000000   \n",
       "max    ...  891586.000000  927171.000000  961664.000000  505000.000000   \n",
       "\n",
       "           PAY_AMT2       PAY_AMT3       PAY_AMT4       PAY_AMT5  \\\n",
       "count  2.799900e+04   27999.000000   27999.000000   27999.000000   \n",
       "mean   5.847387e+03    5131.236580    4813.350048    4755.416801   \n",
       "std    2.105127e+04   16606.364862   15307.325671   14887.656280   \n",
       "min    0.000000e+00       0.000000       0.000000       0.000000   \n",
       "25%    8.395000e+02     390.000000     295.000000     264.000000   \n",
       "50%    2.008000e+03    1800.000000    1500.000000    1500.000000   \n",
       "75%    5.000000e+03    4500.000000    4010.000000    4026.500000   \n",
       "max    1.684259e+06  896040.000000  528897.000000  417990.000000   \n",
       "\n",
       "            PAY_AMT6  default payment next month  \n",
       "count   27999.000000                27999.000000  \n",
       "mean     5184.075574                    0.221794  \n",
       "std     17602.985657                    0.415460  \n",
       "min         0.000000                    0.000000  \n",
       "25%       109.000000                    0.000000  \n",
       "50%      1500.000000                    0.000000  \n",
       "75%      4000.000000                    0.000000  \n",
       "max    528666.000000                    1.000000  \n",
       "\n",
       "[8 rows x 25 columns]"
      ]
     },
     "execution_count": 4,
     "metadata": {},
     "output_type": "execute_result"
    }
   ],
   "source": [
    "defaults = pd.read_csv(\"../../data/SVM_exercises/defaults.csv\", sep = \";\")\n",
    "\n",
    "defaults.describe()"
   ]
  },
  {
   "cell_type": "code",
   "execution_count": 6,
   "id": "8392f728-1ee1-4b00-be6a-71645de2349d",
   "metadata": {},
   "outputs": [
    {
     "data": {
      "text/plain": [
       "Index(['ID', 'LIMIT_BAL', 'SEX', 'EDUCATION', 'MARRIAGE', 'AGE', 'PAY_0',\n",
       "       'PAY_2', 'PAY_3', 'PAY_4', 'PAY_5', 'PAY_6', 'BILL_AMT1', 'BILL_AMT2',\n",
       "       'BILL_AMT3', 'BILL_AMT4', 'BILL_AMT5', 'BILL_AMT6', 'PAY_AMT1',\n",
       "       'PAY_AMT2', 'PAY_AMT3', 'PAY_AMT4', 'PAY_AMT5', 'PAY_AMT6',\n",
       "       'default payment next month'],\n",
       "      dtype='object')"
      ]
     },
     "execution_count": 6,
     "metadata": {},
     "output_type": "execute_result"
    }
   ],
   "source": [
    "defaults.columns"
   ]
  },
  {
   "cell_type": "code",
   "execution_count": 10,
   "id": "6734d921-5046-468c-84ec-094ae9b47261",
   "metadata": {},
   "outputs": [
    {
     "data": {
      "text/plain": [
       "0    0.778206\n",
       "1    0.221794\n",
       "Name: default payment next month, dtype: float64"
      ]
     },
     "execution_count": 10,
     "metadata": {},
     "output_type": "execute_result"
    }
   ],
   "source": [
    "defaults[\"default payment next month\"].value_counts() / len(defaults)"
   ]
  },
  {
   "cell_type": "markdown",
   "id": "316bbf25-4ca6-45ee-aaae-12bb0ba60a9d",
   "metadata": {},
   "source": [
    "## Zbiór jest lekko niezbalansowany - 22% jedynek w klasie decyzyjnej (default payment next month)"
   ]
  },
  {
   "cell_type": "code",
   "execution_count": 13,
   "id": "8c4b2877-9911-42f3-9e8f-0a6e9ef6e911",
   "metadata": {},
   "outputs": [],
   "source": [
    "defaults = defaults.sample(n = 2000)"
   ]
  },
  {
   "cell_type": "markdown",
   "id": "4ca5094e-f374-45d3-b6a9-784e969bca80",
   "metadata": {},
   "source": [
    "### Czy do oceny jakości klasyfikacji modelu korzystniejsza jest w tym przypadku F miara czy “balanced accuracy”."
   ]
  },
  {
   "cell_type": "markdown",
   "id": "49bcc4b0-d80e-493f-a3b0-766917656ab2",
   "metadata": {},
   "source": [
    "### F Score vs Balanced Accuracy - przez to, że korzystam z niezbalansowanych danych to do oceny jakości klasyfikacji modelu korzystniejsze jest balanced accuracy. Balanced Accuracy to średnia ze Specifity i Recall. Obydwie te metryki są niewrażliwe na niezbalansowanie zbioru uczącego."
   ]
  },
  {
   "cell_type": "code",
   "execution_count": 15,
   "id": "b284646e-6be9-40cd-b5e0-1b2d1a9f334f",
   "metadata": {},
   "outputs": [],
   "source": [
    "y = defaults.pop(\"default payment next month\")\n",
    "X = defaults.copy()"
   ]
  },
  {
   "cell_type": "code",
   "execution_count": 40,
   "id": "2802402c-0e3c-425d-a03a-d0f3280c4380",
   "metadata": {},
   "outputs": [],
   "source": [
    "model = SVC(gamma=\"scale\")\n",
    "cv_results = cross_validate(\n",
    "    estimator=model,\n",
    "    X=X,\n",
    "    y=y,\n",
    "    scoring=[\"roc_auc\", \"recall\", \"balanced_accuracy\"],\n",
    "    cv=5,\n",
    "    return_train_score=True\n",
    ")"
   ]
  },
  {
   "cell_type": "code",
   "execution_count": 41,
   "id": "2cdedfe2-8b85-4d41-89b7-1b7c29c92665",
   "metadata": {},
   "outputs": [],
   "source": [
    "cv_results = pd.DataFrame(cv_results)"
   ]
  },
  {
   "cell_type": "code",
   "execution_count": 42,
   "id": "02ab4ad7-47da-4c18-a3cd-e20caee0e719",
   "metadata": {},
   "outputs": [
    {
     "data": {
      "text/html": [
       "<div>\n",
       "<style scoped>\n",
       "    .dataframe tbody tr th:only-of-type {\n",
       "        vertical-align: middle;\n",
       "    }\n",
       "\n",
       "    .dataframe tbody tr th {\n",
       "        vertical-align: top;\n",
       "    }\n",
       "\n",
       "    .dataframe thead th {\n",
       "        text-align: right;\n",
       "    }\n",
       "</style>\n",
       "<table border=\"1\" class=\"dataframe\">\n",
       "  <thead>\n",
       "    <tr style=\"text-align: right;\">\n",
       "      <th></th>\n",
       "      <th>fit_time</th>\n",
       "      <th>score_time</th>\n",
       "      <th>test_roc_auc</th>\n",
       "      <th>train_roc_auc</th>\n",
       "      <th>test_recall</th>\n",
       "      <th>train_recall</th>\n",
       "      <th>test_balanced_accuracy</th>\n",
       "      <th>train_balanced_accuracy</th>\n",
       "    </tr>\n",
       "  </thead>\n",
       "  <tbody>\n",
       "    <tr>\n",
       "      <th>0</th>\n",
       "      <td>0.098770</td>\n",
       "      <td>0.064791</td>\n",
       "      <td>0.555451</td>\n",
       "      <td>0.725001</td>\n",
       "      <td>0.0</td>\n",
       "      <td>0.0</td>\n",
       "      <td>0.5</td>\n",
       "      <td>0.5</td>\n",
       "    </tr>\n",
       "    <tr>\n",
       "      <th>1</th>\n",
       "      <td>0.085784</td>\n",
       "      <td>0.059838</td>\n",
       "      <td>0.540606</td>\n",
       "      <td>0.709750</td>\n",
       "      <td>0.0</td>\n",
       "      <td>0.0</td>\n",
       "      <td>0.5</td>\n",
       "      <td>0.5</td>\n",
       "    </tr>\n",
       "    <tr>\n",
       "      <th>2</th>\n",
       "      <td>0.099737</td>\n",
       "      <td>0.067821</td>\n",
       "      <td>0.589556</td>\n",
       "      <td>0.716508</td>\n",
       "      <td>0.0</td>\n",
       "      <td>0.0</td>\n",
       "      <td>0.5</td>\n",
       "      <td>0.5</td>\n",
       "    </tr>\n",
       "    <tr>\n",
       "      <th>3</th>\n",
       "      <td>0.094024</td>\n",
       "      <td>0.066027</td>\n",
       "      <td>0.613510</td>\n",
       "      <td>0.709720</td>\n",
       "      <td>0.0</td>\n",
       "      <td>0.0</td>\n",
       "      <td>0.5</td>\n",
       "      <td>0.5</td>\n",
       "    </tr>\n",
       "    <tr>\n",
       "      <th>4</th>\n",
       "      <td>0.099767</td>\n",
       "      <td>0.063796</td>\n",
       "      <td>0.591469</td>\n",
       "      <td>0.721746</td>\n",
       "      <td>0.0</td>\n",
       "      <td>0.0</td>\n",
       "      <td>0.5</td>\n",
       "      <td>0.5</td>\n",
       "    </tr>\n",
       "  </tbody>\n",
       "</table>\n",
       "</div>"
      ],
      "text/plain": [
       "   fit_time  score_time  test_roc_auc  train_roc_auc  test_recall  \\\n",
       "0  0.098770    0.064791      0.555451       0.725001          0.0   \n",
       "1  0.085784    0.059838      0.540606       0.709750          0.0   \n",
       "2  0.099737    0.067821      0.589556       0.716508          0.0   \n",
       "3  0.094024    0.066027      0.613510       0.709720          0.0   \n",
       "4  0.099767    0.063796      0.591469       0.721746          0.0   \n",
       "\n",
       "   train_recall  test_balanced_accuracy  train_balanced_accuracy  \n",
       "0           0.0                     0.5                      0.5  \n",
       "1           0.0                     0.5                      0.5  \n",
       "2           0.0                     0.5                      0.5  \n",
       "3           0.0                     0.5                      0.5  \n",
       "4           0.0                     0.5                      0.5  "
      ]
     },
     "execution_count": 42,
     "metadata": {},
     "output_type": "execute_result"
    }
   ],
   "source": [
    "cv_results"
   ]
  },
  {
   "cell_type": "code",
   "execution_count": 46,
   "id": "5ea0074d-241e-4f04-9a33-ff950534025f",
   "metadata": {},
   "outputs": [
    {
     "name": "stderr",
     "output_type": "stream",
     "text": [
      "C:\\Users\\admin\\anaconda3\\envs\\kaggle_korwin_ds_env\\lib\\site-packages\\sklearn\\utils\\deprecation.py:87: FutureWarning: Function plot_roc_curve is deprecated; Function :func:`plot_roc_curve` is deprecated in 1.0 and will be removed in 1.2. Use one of the class methods: :meth:`sklearn.metric.RocCurveDisplay.from_predictions` or :meth:`sklearn.metric.RocCurveDisplay.from_estimator`.\n",
      "  warnings.warn(msg, category=FutureWarning)\n"
     ]
    },
    {
     "data": {
      "text/plain": [
       "<sklearn.metrics._plot.roc_curve.RocCurveDisplay at 0x1fe685428b0>"
      ]
     },
     "execution_count": 46,
     "metadata": {},
     "output_type": "execute_result"
    },
    {
     "data": {
      "image/png": "[encoded data removed]",
      "text/plain": [
       "<Figure size 432x288 with 1 Axes>"
      ]
     },
     "metadata": {
      "needs_background": "light"
     },
     "output_type": "display_data"
    }
   ],
   "source": [
    "model.fit(X, y)\n",
    "plot_roc_curve(model, X, y)"
   ]
  },
  {
   "cell_type": "code",
   "execution_count": null,
   "id": "29d2be20-edb4-4793-9e07-0b00d950e684",
   "metadata": {},
   "outputs": [],
   "source": [
    "result = permutation_importance(model, X, y, n_repeats=10, random_state=42)\n",
    "perm_sorted_idx = result.importances_mean.argsort()"
   ]
  },
  {
   "cell_type": "code",
   "execution_count": 49,
   "id": "2384b342-b3f5-49c6-9c8b-c35b28014e21",
   "metadata": {},
   "outputs": [
    {
     "data": {
      "image/png": "[encoded data removed]",
      "text/plain": [
       "<Figure size 864x576 with 2 Axes>"
      ]
     },
     "metadata": {
      "needs_background": "light"
     },
     "output_type": "display_data"
    }
   ],
   "source": [
    "# tree_importance_sorted_idx = np.argsort(model.X.columns)\n",
    "# tree_indices = np.arange(0, len(model.feature_importances_)) + 0.5\n",
    "\n",
    "fig, (ax1, ax2) = plt.subplots(1, 2, figsize=(12, 8))\n",
    "# ax1.barh(tree_indices, model.feature_importances_[tree_importance_sorted_idx], height=0.7)\n",
    "# ax1.set_yticks(tree_indices)\n",
    "# ax1.set_yticklabels(X.columns[tree_importance_sorted_idx])\n",
    "# ax1.set_ylim((0, len(model.feature_importances_)))\n",
    "ax2.boxplot(\n",
    "    result.importances[perm_sorted_idx].T,\n",
    "    vert=False,\n",
    "    labels=X.columns[perm_sorted_idx],\n",
    ")\n",
    "fig.tight_layout()\n",
    "plt.show()"
   ]
  }
 ],
 "metadata": {
  "kernelspec": {
   "display_name": "Python 3 (ipykernel)",
   "language": "python",
   "name": "python3"
  },
  "language_info": {
   "codemirror_mode": {
    "name": "ipython",
    "version": 3
   },
   "file_extension": ".py",
   "mimetype": "text/x-python",
   "name": "python",
   "nbconvert_exporter": "python",
   "pygments_lexer": "ipython3",
   "version": "3.8.12"
  }
 },
 "nbformat": 4,
 "nbformat_minor": 5
}
